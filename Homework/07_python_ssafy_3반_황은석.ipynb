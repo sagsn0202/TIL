{
 "cells": [
  {
   "cell_type": "code",
   "execution_count": 4,
   "metadata": {
    "scrolled": true
   },
   "outputs": [
    {
     "name": "stdout",
     "output_type": "stream",
     "text": [
      "<class '__main__.Person'>\n"
     ]
    }
   ],
   "source": [
    "# 먼저 다음을 강조하고 시작합니다. \"Everything is an Object!!!\"\n",
    "# 3 실행 후에는 3에서 정의한 클래스를 표시합니다.\n",
    "\n",
    "import sys\n",
    "import inspect\n",
    "\n",
    "def print_classes():\n",
    "    for name, obj in inspect.getmembers(sys.modules[__name__]):\n",
    "        if inspect.isclass(obj):\n",
    "            print(obj)\n",
    "            \n",
    "print_classes()"
   ]
  },
  {
   "cell_type": "code",
   "execution_count": 2,
   "metadata": {},
   "outputs": [
    {
     "name": "stdout",
     "output_type": "stream",
     "text": [
      "<class 'int'>\n",
      "<class 'float'>\n",
      "<class 'complex'>\n",
      "<class 'bool'>\n",
      "<class 'str'>\n"
     ]
    }
   ],
   "source": [
    "# 1\n",
    "print(int)\n",
    "print(float)\n",
    "print(complex)\n",
    "print(bool)\n",
    "print(str)"
   ]
  },
  {
   "cell_type": "markdown",
   "metadata": {},
   "source": [
    "2. 다음 중 틀린 것은?\n",
    "\n",
    "(1) 클래스 내에 정의된 멤버 함수는 ‘메서드(method)’라고 부른다. \n",
    "\n",
    "(2) 클래스는 선언과 동시에 클래스 객체가 생성되며, 인스턴스 객체를 만들면 클래스에서 선언된 메서드를 활용할 수 있다. \n",
    "\n",
    "(3) isinstance(인스턴스 객체, 클래스 객체)를 활용하면 상속 관계까지 확인 가능하다. \n",
    "\n",
    "(4) 생성자는 인스턴트 객체가 생성될 때 자동으로 호출된다. \n",
    "\n",
    "(5) 숫자 5는 그냥 숫자일 뿐 클래스가 없다.\n",
    "\n",
    "Answer : (5)"
   ]
  },
  {
   "cell_type": "code",
   "execution_count": 3,
   "metadata": {},
   "outputs": [
    {
     "name": "stdout",
     "output_type": "stream",
     "text": [
      "안녕하세요. 홍길동입니다. 20살입니다.\n",
      "안녕하세요. 둘리입니다. 0살입니다.\n"
     ]
    }
   ],
   "source": [
    "# 3\n",
    "class Person:\n",
    "    def __init__(self, name, age=0):\n",
    "        self.name = name\n",
    "        self.age = age\n",
    "        \n",
    "    def greeting(self):\n",
    "        return f'안녕하세요. {self.name}입니다. {self.age}살입니다.'\n",
    "    \n",
    "p1 = Person('홍길동', 20)\n",
    "print(p1.greeting())\n",
    "\n",
    "p2 = Person('둘리')\n",
    "print(p2.greeting())"
   ]
  }
 ],
 "metadata": {
  "kernelspec": {
   "display_name": "Python 3",
   "language": "python",
   "name": "python3"
  },
  "language_info": {
   "codemirror_mode": {
    "name": "ipython",
    "version": 3
   },
   "file_extension": ".py",
   "mimetype": "text/x-python",
   "name": "python",
   "nbconvert_exporter": "python",
   "pygments_lexer": "ipython3",
   "version": "3.6.7"
  }
 },
 "nbformat": 4,
 "nbformat_minor": 2
}
