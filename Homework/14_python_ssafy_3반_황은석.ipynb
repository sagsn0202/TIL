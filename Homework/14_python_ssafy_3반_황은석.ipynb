{
 "cells": [
  {
   "cell_type": "markdown",
   "metadata": {},
   "source": [
    "1. Django는 요청에 대한 응답을 해줄 때 허용하는 도메인에게만 응답을 해주도록\n",
    "설정한다. Settings.py 파일에서 도메인을 허용하기 위해 수정해줘야 하는 변수\n",
    "이름을 찾아서 적어주세요\n",
    "\n",
    "```python\n",
    "ALLOWED_HOSTS = [\n",
    "    'django-basic-sagsn0202.c9users.io',\n",
    "]\n",
    "```"
   ]
  },
  {
   "cell_type": "markdown",
   "metadata": {},
   "source": [
    "2. https://<your-server-url>/ssafy 로 요청이 들어왔을때 응답을 해주기 위해\n",
    "urls.py에 추가해주어야 할 코드를 작성하세요\n",
    "\n",
    "```python\n",
    "urlpatterns = [\n",
    "    path('ssafy/'. views.ssafy),\n",
    "]\n",
    "```"
   ]
  },
  {
   "cell_type": "markdown",
   "metadata": {},
   "source": [
    "3. Django 서버를 실행시키는 명령어를 작성해주세요 (C9환경에서)\n",
    "\n",
    "```\n",
    "python manage.py runserver $IP:$PORT\n",
    "```"
   ]
  },
  {
   "cell_type": "markdown",
   "metadata": {},
   "source": [
    "4. django는 MTV로 이루어진 web framework 이다. MTV가 무엇의 약자인지 작성하세요.\n",
    "\n",
    "M: Model, T: Template, V: View"
   ]
  }
 ],
 "metadata": {
  "kernelspec": {
   "display_name": "Python 3",
   "language": "python",
   "name": "python3"
  },
  "language_info": {
   "codemirror_mode": {
    "name": "ipython",
    "version": 3
   },
   "file_extension": ".py",
   "mimetype": "text/x-python",
   "name": "python",
   "nbconvert_exporter": "python",
   "pygments_lexer": "ipython3",
   "version": "3.6.7"
  }
 },
 "nbformat": 4,
 "nbformat_minor": 2
}
