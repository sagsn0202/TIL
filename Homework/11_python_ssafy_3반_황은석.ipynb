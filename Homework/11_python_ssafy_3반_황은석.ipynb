{
 "cells": [
  {
   "cell_type": "markdown",
   "metadata": {},
   "source": [
    "1. 다음은 부트스트랩의 어떤 component 이며 아래와 같이 만들려면 어떤 class 를 주어야\n",
    "하는가.\n",
    "\n",
    "<button type=\"button\" class=\"btn btn-danger\">Danger</button>"
   ]
  },
  {
   "cell_type": "markdown",
   "metadata": {},
   "source": [
    "2. 다음은 부트스트랩의 어떤 component 이며 아래와 동일하게 만들어 보시오.\n",
    "\n",
    "<div class=\"alert alert-info\" role=\"alert\">\n",
    "  Hello SSAFY ?!\n",
    "</div>"
   ]
  },
  {
   "cell_type": "markdown",
   "metadata": {},
   "source": [
    "3. 다음 빈칸을 채우시오.\n",
    "“부트스트랩 그리드 시스템은 레이아웃을 (12) 개의 column 으로,\n",
    "(5) 개의 반응형 사이즈 조건을 사용하여 구축한다.”"
   ]
  },
  {
   "cell_type": "markdown",
   "metadata": {},
   "source": [
    "4. 아래와 같은 분할을 grid system 을 활용하여 만들어 보시오.\n",
    "```html\n",
    "<!DOCTYPE html>\n",
    "<html lang=\"ko\">\n",
    "<head>\n",
    "    <meta charset=\"UTF-8\">\n",
    "    <style>\n",
    "        div {\n",
    "            border: solid 1px black;\n",
    "        }\n",
    "        .row {\n",
    "            background-color: moccasin;\n",
    "        }\n",
    "        .container {\n",
    "            display: grid;\n",
    "            height: 50px;\n",
    "            grid-template-columns: 25% 50% 25%;\n",
    "        }\n",
    "    </style>\n",
    "    <title>Document</title>\n",
    "</head>\n",
    "<body>\n",
    "    <div class=\"container row\">\n",
    "        <div>25%</div>\n",
    "        <div>75%</div>\n",
    "        <div>25%</div>\n",
    "    </div>\n",
    "</body>\n",
    "</html>\n",
    "```"
   ]
  }
 ],
 "metadata": {
  "kernelspec": {
   "display_name": "Python 3",
   "language": "python",
   "name": "python3"
  },
  "language_info": {
   "codemirror_mode": {
    "name": "ipython",
    "version": 3
   },
   "file_extension": ".py",
   "mimetype": "text/x-python",
   "name": "python",
   "nbconvert_exporter": "python",
   "pygments_lexer": "ipython3",
   "version": "3.6.7"
  }
 },
 "nbformat": 4,
 "nbformat_minor": 2
}
