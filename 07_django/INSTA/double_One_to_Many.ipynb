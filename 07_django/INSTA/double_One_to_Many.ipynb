{
 "cells": [
  {
   "cell_type": "code",
   "execution_count": 4,
   "metadata": {},
   "outputs": [
    {
     "data": {
      "text/plain": [
       "<Writer: Writer object (2)>"
      ]
     },
     "execution_count": 4,
     "metadata": {},
     "output_type": "execute_result"
    }
   ],
   "source": [
    "Writer.objects.create(name='Ethan Brown')"
   ]
  },
  {
   "cell_type": "code",
   "execution_count": 5,
   "metadata": {},
   "outputs": [
    {
     "data": {
      "text/plain": [
       "<Book: Book object (3)>"
      ]
     },
     "execution_count": 5,
     "metadata": {},
     "output_type": "execute_result"
    }
   ],
   "source": [
    "Book.objects.create(author=Writer.objects.get(name='Ethan Brown'), title='Learning Python', description='Python37 로 제대로 입문하는 Python 개발')"
   ]
  },
  {
   "cell_type": "code",
   "execution_count": 6,
   "metadata": {},
   "outputs": [
    {
     "data": {
      "text/plain": [
       "<Book: Book object (4)>"
      ]
     },
     "execution_count": 6,
     "metadata": {},
     "output_type": "execute_result"
    }
   ],
   "source": [
    "Book.objects.create(author=Writer.objects.get(name='Ethan Brown'), title='Learning JavaScript', description='ES6로 제대로 입문하는 모던 자바스크립트 웹 개발')"
   ]
  },
  {
   "cell_type": "code",
   "execution_count": 7,
   "metadata": {},
   "outputs": [
    {
     "data": {
      "text/plain": [
       "<Chapter: Chapter object (4)>"
      ]
     },
     "execution_count": 7,
     "metadata": {},
     "output_type": "execute_result"
    }
   ],
   "source": [
    "Chapter.objects.create(\n",
    "    book = Book.objects.get(id=3),\n",
    "    title = 'First App',\n",
    "    description = '시작은 브라우저에서'\n",
    ")\n",
    "\n",
    "Chapter.objects.create(\n",
    "    book = Book.objects.get(id=3),\n",
    "    title = '개발 도구',\n",
    "    description = '트랜스컴파일러'\n",
    ")\n",
    "\n",
    "Chapter.objects.create(\n",
    "    book = Book.objects.get(id=4),\n",
    "    title = 'Python 기초 문법',\n",
    "    description = '변수, 문자열, 숫자, 참/거짓'\n",
    ")\n",
    "\n",
    "Chapter.objects.create(\n",
    "    book = Book.objects.get(id=4),\n",
    "    title = 'Python 자료 구조',\n",
    "    description = '리스트, 딕셔너리, 튜플, 세트'\n",
    ")"
   ]
  },
  {
   "cell_type": "code",
   "execution_count": 21,
   "metadata": {},
   "outputs": [
    {
     "data": {
      "text/plain": [
       "<QuerySet [<Book: Book object (3)>, <Book: Book object (4)>]>"
      ]
     },
     "execution_count": 21,
     "metadata": {},
     "output_type": "execute_result"
    }
   ],
   "source": [
    "Book.objects.filter(author=Chapter.objects.filter(description__contains='딕셔너리')[0].book.author)"
   ]
  },
  {
   "cell_type": "code",
   "execution_count": 34,
   "metadata": {},
   "outputs": [
    {
     "data": {
      "text/plain": [
       "<QuerySet [<Book: Book object (3)>, <Book: Book object (4)>]>"
      ]
     },
     "execution_count": 34,
     "metadata": {},
     "output_type": "execute_result"
    }
   ],
   "source": [
    "Chapter.objects.filter(description__contains='딕셔너리')[0].book.author.book_set.all()"
   ]
  },
  {
   "cell_type": "code",
   "execution_count": 30,
   "metadata": {},
   "outputs": [
    {
     "data": {
      "text/plain": [
       "<QuerySet [<Book: Book object (2)>, <Book: Book object (3)>, <Book: Book object (4)>]>"
      ]
     },
     "execution_count": 30,
     "metadata": {},
     "output_type": "execute_result"
    }
   ],
   "source": [
    "# 책들 중, DB에 2019년에 등록된 모든 책들 중에서 OFFSET 2, LIMIT 3\n",
    "Book.objects.filter(created_at__year=2019)[2:5]"
   ]
  },
  {
   "cell_type": "code",
   "execution_count": 31,
   "metadata": {},
   "outputs": [
    {
     "data": {
      "text/plain": [
       "<QuerySet [<Book: Book object (2)>, <Book: Book object (3)>, <Book: Book object (4)>]>"
      ]
     },
     "execution_count": 31,
     "metadata": {},
     "output_type": "execute_result"
    }
   ],
   "source": [
    "# 책들 중, DB에 2018년에 이후에 등록된 모든 책들 중에서 OFFSET 2, LIMIT 3\n",
    "Book.objects.filter(created_at__year__gt=2018)[2:5]"
   ]
  },
  {
   "cell_type": "code",
   "execution_count": 33,
   "metadata": {
    "scrolled": true
   },
   "outputs": [
    {
     "name": "stdout",
     "output_type": "stream",
     "text": [
      "SELECT \"oton_book\".\"id\", \"oton_book\".\"created_at\", \"oton_book\".\"updated_at\", \"oton_book\".\"author_id\", \"oton_book\".\"title\", \"oton_book\".\"description\" FROM \"oton_book\" WHERE \"oton_book\".\"created_at\" BETWEEN 2019-01-01 00:00:00 AND 2019-12-31 23:59:59.999999  LIMIT 3 OFFSET 2\n"
     ]
    }
   ],
   "source": [
    "print(Book.objects.filter(created_at__year=2019)[2:5].query)"
   ]
  },
  {
   "cell_type": "code",
   "execution_count": null,
   "metadata": {},
   "outputs": [],
   "source": []
  }
 ],
 "metadata": {
  "kernelspec": {
   "display_name": "Django Shell-Plus",
   "language": "python",
   "name": "django_extensions"
  },
  "language_info": {
   "codemirror_mode": {
    "name": "ipython",
    "version": 3
   },
   "file_extension": ".py",
   "mimetype": "text/x-python",
   "name": "python",
   "nbconvert_exporter": "python",
   "pygments_lexer": "ipython3",
   "version": "3.6.8"
  }
 },
 "nbformat": 4,
 "nbformat_minor": 2
}
