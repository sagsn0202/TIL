{
 "cells": [
  {
   "cell_type": "code",
   "execution_count": 16,
   "metadata": {
    "scrolled": true
   },
   "outputs": [
    {
     "data": {
      "text/plain": [
       "<Student: 6 Marshall>"
      ]
     },
     "execution_count": 16,
     "metadata": {},
     "output_type": "execute_result"
    }
   ],
   "source": [
    "# Student.objects.create(name='황은석')\n",
    "# Student.objects.create(name='박병준')\n",
    "# Student.objects.create(name='Fender')\n",
    "# Student.objects.create(name='Marshall')"
   ]
  },
  {
   "cell_type": "code",
   "execution_count": 21,
   "metadata": {},
   "outputs": [
    {
     "data": {
      "text/plain": [
       "4"
      ]
     },
     "execution_count": 21,
     "metadata": {},
     "output_type": "execute_result"
    }
   ],
   "source": [
    "Student.objects.count()"
   ]
  },
  {
   "cell_type": "code",
   "execution_count": 17,
   "metadata": {},
   "outputs": [
    {
     "data": {
      "text/plain": [
       "<Lecture: 4 Jazz>"
      ]
     },
     "execution_count": 17,
     "metadata": {},
     "output_type": "execute_result"
    }
   ],
   "source": [
    "# Lecture.objects.create(title='Blues')\n",
    "# Lecture.objects.create(title='Jazz')"
   ]
  },
  {
   "cell_type": "code",
   "execution_count": 22,
   "metadata": {},
   "outputs": [
    {
     "data": {
      "text/plain": [
       "2"
      ]
     },
     "execution_count": 22,
     "metadata": {},
     "output_type": "execute_result"
    }
   ],
   "source": [
    "Lecture.objects.count()"
   ]
  },
  {
   "cell_type": "code",
   "execution_count": 18,
   "metadata": {},
   "outputs": [
    {
     "data": {
      "text/plain": [
       "<Enrollment: 5 3 황은석 3 Blues>"
      ]
     },
     "execution_count": 18,
     "metadata": {},
     "output_type": "execute_result"
    }
   ],
   "source": [
    "# Enrollment.objects.create(student=Student.objects.get(name='황은석'), lecture=Lecture.objects.get(title='Blues'))"
   ]
  },
  {
   "cell_type": "code",
   "execution_count": 19,
   "metadata": {},
   "outputs": [
    {
     "data": {
      "text/plain": [
       "<Enrollment: 10 6 Marshall 3 Blues>"
      ]
     },
     "execution_count": 19,
     "metadata": {},
     "output_type": "execute_result"
    }
   ],
   "source": [
    "# Enrollment.objects.create(student=Student.objects.get(name='황은석'), lecture=Lecture.objects.get(title='Jazz'))\n",
    "# Enrollment.objects.create(student=Student.objects.get(name='박병준'), lecture=Lecture.objects.get(title='Blues'))\n",
    "# Enrollment.objects.create(student=Student.objects.get(name='Fender'), lecture=Lecture.objects.get(title='Blues'))\n",
    "# Enrollment.objects.create(student=Student.objects.get(name='Fender'), lecture=Lecture.objects.get(title='Jazz'))\n",
    "# Enrollment.objects.create(student=Student.objects.get(name='Marshall'), lecture=Lecture.objects.get(title='Blues'))"
   ]
  },
  {
   "cell_type": "code",
   "execution_count": 20,
   "metadata": {},
   "outputs": [
    {
     "data": {
      "text/plain": [
       "<QuerySet [<Enrollment: 5 3 황은석 3 Blues>, <Enrollment: 6 3 황은석 4 Jazz>, <Enrollment: 7 4 박병준 3 Blues>, <Enrollment: 8 5 Fender 3 Blues>, <Enrollment: 9 5 Fender 4 Jazz>, <Enrollment: 10 6 Marshall 3 Blues>]>"
      ]
     },
     "execution_count": 20,
     "metadata": {},
     "output_type": "execute_result"
    }
   ],
   "source": [
    "Enrollment.objects.all()"
   ]
  },
  {
   "cell_type": "code",
   "execution_count": 25,
   "metadata": {},
   "outputs": [
    {
     "data": {
      "text/plain": [
       "'Jazz'"
      ]
     },
     "execution_count": 25,
     "metadata": {},
     "output_type": "execute_result"
    }
   ],
   "source": [
    "황은석 = Student.objects.get(name='황은석')\n",
    "수강신청1 = 황은석.enrollment_set.first()\n",
    "수강신청2 = 황은석.enrollment_set.last()\n",
    "\n",
    "수강신청1.lecture.title\n",
    "수강신청2.lecture.title"
   ]
  },
  {
   "cell_type": "code",
   "execution_count": 27,
   "metadata": {},
   "outputs": [],
   "source": [
    "Fender = Student.objects.get(name='Fender')"
   ]
  },
  {
   "cell_type": "code",
   "execution_count": 32,
   "metadata": {
    "scrolled": true
   },
   "outputs": [
    {
     "name": "stdout",
     "output_type": "stream",
     "text": [
      "Blues\n",
      "Jazz\n"
     ]
    }
   ],
   "source": [
    "for i in range(len(Fender.enrollment_set.all())):\n",
    "    print(Fender.enrollment_set.all()[i].lecture.title)"
   ]
  },
  {
   "cell_type": "code",
   "execution_count": 35,
   "metadata": {},
   "outputs": [
    {
     "name": "stdout",
     "output_type": "stream",
     "text": [
      "Blues\n"
     ]
    }
   ],
   "source": [
    "for i in range(len(Fender.enrollment_set.all())):\n",
    "    tmp_title = Fender.enrollment_set.all()[i].lecture.title\n",
    "    if len(tmp_title) > 4:\n",
    "        print(tmp_title)"
   ]
  },
  {
   "cell_type": "code",
   "execution_count": 42,
   "metadata": {
    "scrolled": true
   },
   "outputs": [
    {
     "data": {
      "text/plain": [
       "<QuerySet [<Hotel: Hotel object (1)>, <Hotel: Hotel object (2)>, <Hotel: Hotel object (3)>, <Hotel: Hotel object (4)>, <Hotel: Hotel object (5)>, <Hotel: Hotel object (6)>, <Hotel: Hotel object (7)>, <Hotel: Hotel object (8)>, <Hotel: Hotel object (9)>, <Hotel: Hotel object (10)>, <Hotel: Hotel object (11)>]>"
      ]
     },
     "execution_count": 42,
     "metadata": {},
     "output_type": "execute_result"
    }
   ],
   "source": [
    "# Hotel.dummy(1)\n",
    "Hotel.objects.all()"
   ]
  },
  {
   "cell_type": "code",
   "execution_count": 43,
   "metadata": {},
   "outputs": [
    {
     "data": {
      "text/plain": [
       "<QuerySet [<Client: Client object (8)>, <Client: Client object (11)>, <Client: Client object (3)>, <Client: Client object (1)>, <Client: Client object (5)>, <Client: Client object (7)>, <Client: Client object (10)>, <Client: Client object (4)>, <Client: Client object (6)>, <Client: Client object (9)>, <Client: Client object (2)>]>"
      ]
     },
     "execution_count": 43,
     "metadata": {},
     "output_type": "execute_result"
    }
   ],
   "source": [
    "# Client.dummy(1)\n",
    "Client.objects.all()"
   ]
  },
  {
   "cell_type": "code",
   "execution_count": 40,
   "metadata": {
    "scrolled": true
   },
   "outputs": [
    {
     "data": {
      "text/plain": [
       "<QuerySet [{'name': 'Billy Lee'}, {'name': 'Caitlyn Tran'}, {'name': 'Colin Williams'}, {'name': 'Karen Harper'}, {'name': 'Lisa Dixon'}, {'name': 'Rachel Horton'}, {'name': 'Ronald Garcia'}, {'name': 'Sierra Peters'}, {'name': 'Tammy Smith'}, {'name': 'William Fuller'}]>"
      ]
     },
     "execution_count": 40,
     "metadata": {},
     "output_type": "execute_result"
    }
   ],
   "source": [
    "Client.objects.all().values('name')"
   ]
  },
  {
   "cell_type": "code",
   "execution_count": 51,
   "metadata": {},
   "outputs": [
    {
     "data": {
      "text/plain": [
       "'Karen Harper'"
      ]
     },
     "execution_count": 51,
     "metadata": {},
     "output_type": "execute_result"
    }
   ],
   "source": [
    "new_hotel = Hotel.objects.last()\n",
    "# new_hotel.clients.add(Client.objects.last())\n",
    "# new_hotel.clients.add(\n",
    "#     Client.objects.get(id=3),\n",
    "#     Client.objects.get(id=5),\n",
    "#     Client.objects.get(id=7),)\n",
    "new_hotel.clients.filter(name__contains='h')"
   ]
  },
  {
   "cell_type": "code",
   "execution_count": 53,
   "metadata": {},
   "outputs": [
    {
     "data": {
      "text/plain": [
       "<QuerySet [<Hotel: Hotel object (10)>, <Hotel: Hotel object (2)>, <Hotel: Hotel object (11)>]>"
      ]
     },
     "execution_count": 53,
     "metadata": {},
     "output_type": "execute_result"
    }
   ],
   "source": [
    "client = Client.objects.get(id=3)\n",
    "\n",
    "client.hotels.all()"
   ]
  }
 ],
 "metadata": {
  "kernelspec": {
   "display_name": "Django Shell-Plus",
   "language": "python",
   "name": "django_extensions"
  },
  "language_info": {
   "codemirror_mode": {
    "name": "ipython",
    "version": 3
   },
   "file_extension": ".py",
   "mimetype": "text/x-python",
   "name": "python",
   "nbconvert_exporter": "python",
   "pygments_lexer": "ipython3",
   "version": "3.6.8"
  }
 },
 "nbformat": 4,
 "nbformat_minor": 2
}
