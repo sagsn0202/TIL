{
 "cells": [
  {
   "cell_type": "markdown",
   "metadata": {},
   "source": [
    "```css\n",
    "<style>\n",
    "    #ssafy > p:nth-child(2) {\n",
    "    color: red;\n",
    "    }\n",
    "</style>\n",
    "<div id=\"ssafy\">\n",
    "    <h2>어떤게 선택될까?</h2>\n",
    "    <p>첫번째 단락</p>\n",
    "    <p>두번째 단락</p>\n",
    "    <p>세번째 단락</p>\n",
    "    <p>네번째 단락</p>\n",
    "</div>\n",
    "```"
   ]
  },
  {
   "cell_type": "markdown",
   "metadata": {},
   "source": [
    "어떤게 선택될까?\n",
    "\n",
    "**첫번째 단락**\n",
    "\n",
    "두번째 단락\n",
    "\n",
    "세번째 단락\n",
    "\n",
    "네번째 단락\n",
    "\n",
    "E:nth-child(n) -> n으로 지정된 순서와 일치하는 요소가 E이면 선택"
   ]
  },
  {
   "cell_type": "markdown",
   "metadata": {},
   "source": [
    "```css\n",
    "#ssafy > p:nth-of-type(2) {\n",
    "    color: blue;\n",
    "}\n",
    "```"
   ]
  },
  {
   "cell_type": "markdown",
   "metadata": {},
   "source": [
    "어떤게 선택될까?\n",
    "\n",
    "첫번째 단락\n",
    "\n",
    "**두번째 단락**\n",
    "\n",
    "세번째 단락\n",
    "\n",
    "네번째 단락\n",
    "\n",
    "E:nth-of-type(n) -> E 요소 중 n으로 지정된 순서와 일치하는 요소가 E이면 선택"
   ]
  }
 ],
 "metadata": {
  "kernelspec": {
   "display_name": "Python 3",
   "language": "python",
   "name": "python3"
  },
  "language_info": {
   "codemirror_mode": {
    "name": "ipython",
    "version": 3
   },
   "file_extension": ".py",
   "mimetype": "text/x-python",
   "name": "python",
   "nbconvert_exporter": "python",
   "pygments_lexer": "ipython3",
   "version": "3.6.7"
  }
 },
 "nbformat": 4,
 "nbformat_minor": 2
}
