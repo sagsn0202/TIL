{
 "cells": [
  {
   "cell_type": "markdown",
   "metadata": {},
   "source": [
    "1번\n",
    "\n",
    "```html\n",
    "<a href=\"https://www.ssafy.com/\" target=\"_blank\">\n",
    "    <p>\n",
    "        SSAFY\n",
    "    </p>\n",
    "</a>\n",
    "```\n",
    "SSAFY를 클릭하면 새창에서 열립니다."
   ]
  },
  {
   "cell_type": "markdown",
   "metadata": {},
   "source": [
    "2번\n",
    "\n",
    "```html\n",
    "<img href=\"https://www.google.com/\" alt=\"GOOGLE\">\n",
    "```\n",
    "를 다음과 같이 변경해야 합니다.\n",
    "```html\n",
    "<img src=\"https://www.google.com/\" alt=\"GOOGLE\">\n",
    "```"
   ]
  },
  {
   "cell_type": "markdown",
   "metadata": {},
   "source": [
    "3번\n",
    "```html\n",
    "<a href=\"../Image/my_photo.png\" target=\"_blank\">\n",
    "    <p>\n",
    "        my_photo\n",
    "    </p>\n",
    "</a>\n",
    "```\n",
    "my_photo를 클릭하면 새창에서 열립니다."
   ]
  }
 ],
 "metadata": {
  "kernelspec": {
   "display_name": "Python 3",
   "language": "python",
   "name": "python3"
  },
  "language_info": {
   "codemirror_mode": {
    "name": "ipython",
    "version": 3
   },
   "file_extension": ".py",
   "mimetype": "text/x-python",
   "name": "python",
   "nbconvert_exporter": "python",
   "pygments_lexer": "ipython3",
   "version": "3.6.7"
  }
 },
 "nbformat": 4,
 "nbformat_minor": 2
}
