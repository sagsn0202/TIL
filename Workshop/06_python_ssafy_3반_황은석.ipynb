{
 "cells": [
  {
   "cell_type": "markdown",
   "metadata": {},
   "source": [
    "### Bisection"
   ]
  },
  {
   "cell_type": "code",
   "execution_count": 2,
   "metadata": {},
   "outputs": [
    {
     "name": "stdout",
     "output_type": "stream",
     "text": [
      "(1.4142074584960938, 1.414215087890625)\n",
      "(1.7320480346679688, 1.7320556640625)\n",
      "4\n",
      "(2.6457443237304688, 2.645751953125)\n",
      "(10.049873352050781, 10.049880981445312)\n"
     ]
    }
   ],
   "source": [
    "def bisection(number):\n",
    "    for bias in range(1, number):\n",
    "        if bias ** 2 == number:\n",
    "            return number\n",
    "        elif bias ** 2 < number < (bias + 1) ** 2:\n",
    "            return bisection_hidden(number, bias, bias + 1)\n",
    "\n",
    "def bisection_hidden(number, bias_prev=None, bias_next=None):\n",
    "    if abs(bias_prev - bias_next) <= 1e-5:\n",
    "        return bias_prev, bias_next\n",
    "        \n",
    "    bias_middle = (bias_prev + bias_next) / 2\n",
    "    if bias_prev ** 2 < number < bias_middle ** 2:\n",
    "        return bisection_hidden(number, bias_prev, bias_middle)\n",
    "    elif bias_middle ** 2 < number < bias_next ** 2:\n",
    "        return bisection_hidden(number, bias_middle, bias_next)        \n",
    "    else:\n",
    "        return bias_prev, bias_next\n",
    "    \n",
    "print(bisection(2))\n",
    "print(bisection(3))\n",
    "print(bisection(4))"
   ]
  },
  {
   "cell_type": "code",
   "execution_count": 3,
   "metadata": {},
   "outputs": [
    {
     "data": {
      "text/plain": [
       "(1.414213562373095, 1.4142135623730951)"
      ]
     },
     "execution_count": 3,
     "metadata": {},
     "output_type": "execute_result"
    }
   ],
   "source": [
    "import sys\n",
    "\n",
    "def bisection(number, bias_prev=None, bias_next=None):\n",
    "    if bias_prev == None and bias_next == None :\n",
    "        bias_prev = number - 1\n",
    "        bias_next = number\n",
    "        \n",
    "    if abs(bias_prev - bias_next) <= sys.float_info.epsilon:\n",
    "        return bias_prev, bias_next\n",
    "        \n",
    "    bias_middle = (bias_prev + bias_next) / 2\n",
    "    if bias_prev ** 2 < number < bias_middle ** 2:\n",
    "        return bisection(number, bias_prev, bias_middle)\n",
    "    elif bias_middle ** 2 < number < bias_next ** 2:\n",
    "        return bisection(number, bias_middle, bias_next)        \n",
    "    else:\n",
    "        return bias_prev, bias_next\n",
    "    \n",
    "bisection(2)"
   ]
  },
  {
   "cell_type": "code",
   "execution_count": 4,
   "metadata": {},
   "outputs": [
    {
     "data": {
      "text/plain": [
       "(1.4142135614529252, 1.4142135623842478)"
      ]
     },
     "execution_count": 4,
     "metadata": {},
     "output_type": "execute_result"
    }
   ],
   "source": [
    "import math\n",
    "\n",
    "def bisection(number, bias_prev=None, bias_next=None):\n",
    "    if bias_prev == None and bias_next == None :\n",
    "        bias_prev = number - 1\n",
    "        bias_next = number\n",
    "        \n",
    "    if math.isclose(bias_prev, bias_next):\n",
    "        return bias_prev, bias_next\n",
    "        \n",
    "    bias_middle = (bias_prev + bias_next) / 2\n",
    "    if bias_prev ** 2 < number < bias_middle ** 2:\n",
    "        return bisection(number, bias_prev, bias_middle)\n",
    "    elif bias_middle ** 2 < number < bias_next ** 2:\n",
    "        return bisection(number, bias_middle, bias_next)        \n",
    "    else:\n",
    "        return bias_prev, bias_next\n",
    "    \n",
    "bisection(2)"
   ]
  }
 ],
 "metadata": {
  "kernelspec": {
   "display_name": "Python 3",
   "language": "python",
   "name": "python3"
  },
  "language_info": {
   "codemirror_mode": {
    "name": "ipython",
    "version": 3
   },
   "file_extension": ".py",
   "mimetype": "text/x-python",
   "name": "python",
   "nbconvert_exporter": "python",
   "pygments_lexer": "ipython3",
   "version": "3.6.7"
  }
 },
 "nbformat": 4,
 "nbformat_minor": 2
}
