{
 "cells": [
  {
   "cell_type": "markdown",
   "metadata": {},
   "source": [
    "## Palindrome"
   ]
  },
  {
   "cell_type": "code",
   "execution_count": 14,
   "metadata": {
    "scrolled": false
   },
   "outputs": [
    {
     "name": "stdout",
     "output_type": "stream",
     "text": [
      "True\n",
      "False\n",
      "True\n"
     ]
    }
   ],
   "source": [
    "def palindrome(word):\n",
    "    word = word.replace(' ','').lower()\n",
    "    return palindrome_hidden(word)\n",
    "\n",
    "def palindrome_hidden(word):\n",
    "    if len(word) <= 1:\n",
    "        return True\n",
    "    if word[0] != word[-1]:\n",
    "        return False\n",
    "    return palindrome(word[1:-1])\n",
    "    \n",
    "print(palindrome('abba'))\n",
    "print(palindrome('abcdba'))\n",
    "print(palindrome('A santa at NASA'))"
   ]
  },
  {
   "cell_type": "code",
   "execution_count": 5,
   "metadata": {},
   "outputs": [
    {
     "name": "stdout",
     "output_type": "stream",
     "text": [
      "True\n",
      "False\n",
      "True\n"
     ]
    }
   ],
   "source": [
    "def palindrome(word):\n",
    "    word = word.replace(' ','').lower()\n",
    "    while len(word) > 1:\n",
    "        if word[0] != word[-1]:\n",
    "            return False\n",
    "        word = word[1:-1]\n",
    "    return True\n",
    "    \n",
    "print(palindrome('abba'))\n",
    "print(palindrome('abcdba'))\n",
    "print(palindrome('A santa at NASA'))"
   ]
  },
  {
   "cell_type": "code",
   "execution_count": 7,
   "metadata": {},
   "outputs": [
    {
     "name": "stdout",
     "output_type": "stream",
     "text": [
      "True\n",
      "False\n",
      "True\n"
     ]
    }
   ],
   "source": [
    "# O(N)\n",
    "\n",
    "def palindrome(word):\n",
    "    word = word.replace(' ','').lower()\n",
    "    word_length = len(word)\n",
    "    middle_idx = word_length // 2\n",
    "    for idx in range(0, middle_idx):\n",
    "        opposite_char_idx = word_length - idx - 1\n",
    "        if word[idx] != word[opposite_char_idx]:\n",
    "            return False\n",
    "    return True\n",
    "\n",
    "print(palindrome('abba'))\n",
    "print(palindrome('abcdba'))\n",
    "print(palindrome('A santa at NASA'))"
   ]
  }
 ],
 "metadata": {
  "kernelspec": {
   "display_name": "Python 3",
   "language": "python",
   "name": "python3"
  },
  "language_info": {
   "codemirror_mode": {
    "name": "ipython",
    "version": 3
   },
   "file_extension": ".py",
   "mimetype": "text/x-python",
   "name": "python",
   "nbconvert_exporter": "python",
   "pygments_lexer": "ipython3",
   "version": "3.6.7"
  }
 },
 "nbformat": 4,
 "nbformat_minor": 2
}
