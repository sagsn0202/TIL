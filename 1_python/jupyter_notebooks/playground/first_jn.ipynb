{
 "cells": [
  {
   "cell_type": "code",
   "execution_count": 5,
   "metadata": {},
   "outputs": [
    {
     "name": "stdout",
     "output_type": "stream",
     "text": [
      "14 42\n"
     ]
    }
   ],
   "source": [
    "num1 = 42\n",
    "num2 = 14\n",
    "\n",
    "temp_num1 = num1\n",
    "temp_num2 = num2\n",
    "\n",
    "while temp_num2 != 0:\n",
    "    rem = temp_num1 % temp_num2\n",
    "    temp_num1 = temp_num2\n",
    "    temp_num2 = rem\n",
    "\n",
    "#최대공약수\n",
    "gcd = temp_num1\n",
    "#최소공배수\n",
    "lcm = int((num1 * num2) / gcd)\n",
    "\n",
    "print(gcd, lcm)"
   ]
  }
 ],
 "metadata": {
  "kernelspec": {
   "display_name": "Python 3",
   "language": "python",
   "name": "python3"
  },
  "language_info": {
   "codemirror_mode": {
    "name": "ipython",
    "version": 3
   },
   "file_extension": ".py",
   "mimetype": "text/x-python",
   "name": "python",
   "nbconvert_exporter": "python",
   "pygments_lexer": "ipython3",
   "version": "3.6.7"
  }
 },
 "nbformat": 4,
 "nbformat_minor": 2
}
