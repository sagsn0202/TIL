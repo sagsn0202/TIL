{
 "cells": [
  {
   "cell_type": "code",
   "execution_count": 1,
   "metadata": {},
   "outputs": [],
   "source": [
    "def typical_func(one, two, three):\n",
    "    \"\"\"\n",
    "    Args: one, two, three str: strings\n",
    "    \"\"\"\n",
    "    return one + two + three\n",
    "\n",
    "start = 'a'\n",
    "middle ='b'\n",
    "end = 'c'\n",
    "\n",
    "arguments = (start, middle, end)\n",
    "\n",
    "typical_func(*arguments)"
   ]
  },
  {
   "cell_type": "code",
   "execution_count": 3,
   "metadata": {},
   "outputs": [
    {
     "data": {
      "text/plain": [
       "3"
      ]
     },
     "execution_count": 3,
     "metadata": {},
     "output_type": "execute_result"
    }
   ],
   "source": [
    "def kw_functions(a=1, b=2):\n",
    "    return a + b\n",
    "\n",
    "kw_functions()"
   ]
  },
  {
   "cell_type": "code",
   "execution_count": 4,
   "metadata": {},
   "outputs": [
    {
     "data": {
      "text/plain": [
       "30"
      ]
     },
     "execution_count": 4,
     "metadata": {},
     "output_type": "execute_result"
    }
   ],
   "source": [
    "def kw_functions(a=1, b=2):\n",
    "    return a + b\n",
    "\n",
    "things_to_add = {\n",
    "    'a': 10,\n",
    "    'b': 20\n",
    "}\n",
    "\n",
    "kw_functions(**things_to_add)"
   ]
  },
  {
   "cell_type": "code",
   "execution_count": 6,
   "metadata": {},
   "outputs": [
    {
     "data": {
      "text/plain": [
       "[12, 318, 417, 204]"
      ]
     },
     "execution_count": 6,
     "metadata": {},
     "output_type": "execute_result"
    }
   ],
   "source": [
    "def func_with_name(arguments):\n",
    "    return arguments + 1\n",
    "\n",
    "x = [12, 318, 29, 122, 417, 204]\n",
    "\n",
    "list(filter(lambda x: x % 3 == 0, x))"
   ]
  },
  {
   "cell_type": "code",
   "execution_count": 7,
   "metadata": {},
   "outputs": [
    {
     "data": {
      "text/plain": [
       "[24, 636, 58, 244, 834, 408]"
      ]
     },
     "execution_count": 7,
     "metadata": {},
     "output_type": "execute_result"
    }
   ],
   "source": [
    "list(map(lambda x: x * 2, x))"
   ]
  },
  {
   "cell_type": "code",
   "execution_count": 8,
   "metadata": {},
   "outputs": [
    {
     "data": {
      "text/plain": [
       "[24, 636, 58, 244, 834, 408]"
      ]
     },
     "execution_count": 8,
     "metadata": {},
     "output_type": "execute_result"
    }
   ],
   "source": [
    "[x * 2 for x in x]"
   ]
  },
  {
   "cell_type": "code",
   "execution_count": 14,
   "metadata": {},
   "outputs": [],
   "source": [
    "def func_with_name(x, y):\n",
    "    return x + y"
   ]
  },
  {
   "cell_type": "code",
   "execution_count": 15,
   "metadata": {},
   "outputs": [
    {
     "data": {
      "text/plain": [
       "1102"
      ]
     },
     "execution_count": 15,
     "metadata": {},
     "output_type": "execute_result"
    }
   ],
   "source": [
    "import functools\n",
    "functools.reduce(lambda x, y: x + y, x)"
   ]
  },
  {
   "cell_type": "code",
   "execution_count": 17,
   "metadata": {},
   "outputs": [
    {
     "data": {
      "text/plain": [
       "'There is a zebra'"
      ]
     },
     "execution_count": 17,
     "metadata": {},
     "output_type": "execute_result"
    }
   ],
   "source": [
    "def normal_f():\n",
    "    \n",
    "    def get_animal():\n",
    "        return 'zebra'\n",
    "    \n",
    "    return f'There is a {get_animal()}'\n",
    "\n",
    "normal_f()"
   ]
  },
  {
   "cell_type": "code",
   "execution_count": null,
   "metadata": {},
   "outputs": [],
   "source": [
    "def process_file(filename):\n",
    "    \n",
    "    def compute_new_data(some_data):\n",
    "        return some_data.replace('#', '<hashtag>')\n",
    "    \n",
    "    with open(filename, 'r') as f:\n",
    "        data = filename.read()\n",
    "        result = compute_new_data(data)\n",
    "        \n",
    "    return result"
   ]
  },
  {
   "cell_type": "code",
   "execution_count": 4,
   "metadata": {},
   "outputs": [
    {
     "name": "stdout",
     "output_type": "stream",
     "text": [
      "144\n",
      "169\n"
     ]
    }
   ],
   "source": [
    "def custom_operator(x):\n",
    "    return (x + 2) ** 2\n",
    "\n",
    "def custom_operator_2(x):\n",
    "    return (x + 3) ** 2\n",
    "\n",
    "print(custom_operator(10))\n",
    "print(custom_operator_2(10))"
   ]
  },
  {
   "cell_type": "code",
   "execution_count": 6,
   "metadata": {},
   "outputs": [
    {
     "name": "stdout",
     "output_type": "stream",
     "text": [
      "144\n",
      "169\n"
     ]
    }
   ],
   "source": [
    "def custom_operator_maker(increment=2, power=2):\n",
    "    def return_this_func(x):\n",
    "        return (x + increment) ** power\n",
    "    return return_this_func\n",
    "\n",
    "f1 = custom_operator_maker(2, 2)\n",
    "f2 = custom_operator_maker(3, 2)\n",
    "\n",
    "print(f1(10))\n",
    "print(f2(10))"
   ]
  },
  {
   "cell_type": "code",
   "execution_count": 7,
   "metadata": {},
   "outputs": [
    {
     "name": "stdout",
     "output_type": "stream",
     "text": [
      "before\n",
      "This is some_function()\n",
      "after\n"
     ]
    }
   ],
   "source": [
    "def some_decorator(f):\n",
    "    \n",
    "    def function_wrapper():\n",
    "        print('before')\n",
    "        f()\n",
    "        print('after')\n",
    "        \n",
    "    return function_wrapper\n",
    "\n",
    "def some_function():\n",
    "    print('This is some_function()')\n",
    "\n",
    "wrapped_function = some_decorator(some_function)\n",
    "wrapped_function()"
   ]
  },
  {
   "cell_type": "code",
   "execution_count": 9,
   "metadata": {},
   "outputs": [
    {
     "name": "stdout",
     "output_type": "stream",
     "text": [
      "before\n",
      "This is some other function()\n",
      "after\n"
     ]
    }
   ],
   "source": [
    "def some_decorator(f):\n",
    "    \n",
    "    def function_wrapper():\n",
    "        print('before')\n",
    "        f()\n",
    "        print('after')\n",
    "        \n",
    "    return function_wrapper\n",
    "\n",
    "@some_decorator\n",
    "def some_other_function():\n",
    "    print('This is some other function()')\n",
    "    \n",
    "some_other_function()"
   ]
  }
 ],
 "metadata": {
  "kernelspec": {
   "display_name": "Python 3",
   "language": "python",
   "name": "python3"
  },
  "language_info": {
   "codemirror_mode": {
    "name": "ipython",
    "version": 3
   },
   "file_extension": ".py",
   "mimetype": "text/x-python",
   "name": "python",
   "nbconvert_exporter": "python",
   "pygments_lexer": "ipython3",
   "version": "3.7.1"
  }
 },
 "nbformat": 4,
 "nbformat_minor": 2
}
