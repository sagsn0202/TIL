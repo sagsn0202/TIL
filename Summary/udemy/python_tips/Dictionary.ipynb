{
 "cells": [
  {
   "cell_type": "code",
   "execution_count": 2,
   "metadata": {},
   "outputs": [
    {
     "data": {
      "text/plain": [
       "{'a': 1, 'b': 2}"
      ]
     },
     "execution_count": 2,
     "metadata": {},
     "output_type": "execute_result"
    }
   ],
   "source": [
    "example_dict = { 'a': 1, 'b': 2 }\n",
    "example_dict"
   ]
  },
  {
   "cell_type": "code",
   "execution_count": 3,
   "metadata": {},
   "outputs": [
    {
     "ename": "KeyError",
     "evalue": "'c'",
     "output_type": "error",
     "traceback": [
      "\u001b[0;31m---------------------------------------------------------------------------\u001b[0m",
      "\u001b[0;31mKeyError\u001b[0m                                  Traceback (most recent call last)",
      "\u001b[0;32m<ipython-input-3-efc0333dd70a>\u001b[0m in \u001b[0;36m<module>\u001b[0;34m\u001b[0m\n\u001b[0;32m----> 1\u001b[0;31m \u001b[0mexample_dict\u001b[0m\u001b[0;34m[\u001b[0m\u001b[0;34m'c'\u001b[0m\u001b[0;34m]\u001b[0m\u001b[0;34m\u001b[0m\u001b[0;34m\u001b[0m\u001b[0m\n\u001b[0m",
      "\u001b[0;31mKeyError\u001b[0m: 'c'"
     ]
    }
   ],
   "source": [
    "example_dict['c']"
   ]
  },
  {
   "cell_type": "code",
   "execution_count": 4,
   "metadata": {},
   "outputs": [],
   "source": [
    "if 'c' in example_dict:\n",
    "    print(example_dict['c'])"
   ]
  },
  {
   "cell_type": "code",
   "execution_count": 5,
   "metadata": {},
   "outputs": [
    {
     "data": {
      "text/plain": [
       "0"
      ]
     },
     "execution_count": 5,
     "metadata": {},
     "output_type": "execute_result"
    }
   ],
   "source": [
    "example_dict.get('c', 0)"
   ]
  },
  {
   "cell_type": "code",
   "execution_count": 11,
   "metadata": {},
   "outputs": [],
   "source": [
    "from collections import defaultdict\n",
    "# example_default_dict = defaultdict(value_data_type)\n",
    "example_default_dict = defaultdict(list)"
   ]
  },
  {
   "cell_type": "code",
   "execution_count": 8,
   "metadata": {},
   "outputs": [],
   "source": [
    "customer_arrival_times = [('tony', 1), ('sam', 2), ('tony', 14)]"
   ]
  },
  {
   "cell_type": "code",
   "execution_count": 4,
   "metadata": {},
   "outputs": [
    {
     "data": {
      "text/plain": [
       "{'tony': [1, 14], 'sam': [2]}"
      ]
     },
     "execution_count": 4,
     "metadata": {},
     "output_type": "execute_result"
    }
   ],
   "source": [
    "example_dict = dict()\n",
    "for customer, time in customer_arrival_times:\n",
    "    if customer in example_dict:\n",
    "        example_dict[customer].append(time)\n",
    "    else:\n",
    "        example_dict[customer] = []\n",
    "        example_dict[customer].append(time)\n",
    "example_dict"
   ]
  },
  {
   "cell_type": "code",
   "execution_count": 12,
   "metadata": {},
   "outputs": [
    {
     "data": {
      "text/plain": [
       "defaultdict(list, {'tony': [1, 14], 'sam': [2]})"
      ]
     },
     "execution_count": 12,
     "metadata": {},
     "output_type": "execute_result"
    }
   ],
   "source": [
    "for customer, time in customer_arrival_times:\n",
    "    example_default_dict[customer].append(time)\n",
    "example_default_dict"
   ]
  },
  {
   "cell_type": "code",
   "execution_count": 13,
   "metadata": {},
   "outputs": [],
   "source": [
    "nested_dict = {\n",
    "    'clients': {\n",
    "        'joe': 1,\n",
    "        'tom': 2\n",
    "    },\n",
    "    'vendors': {\n",
    "        'creative_soft': 44,\n",
    "        'office_space': 33\n",
    "    }\n",
    "}"
   ]
  },
  {
   "cell_type": "code",
   "execution_count": 15,
   "metadata": {},
   "outputs": [
    {
     "data": {
      "text/plain": [
       "{'clients.joe': 1,\n",
       " 'clients.tom': 2,\n",
       " 'vendors.creative_soft': 44,\n",
       " 'vendors.office_space': 33}"
      ]
     },
     "execution_count": 15,
     "metadata": {},
     "output_type": "execute_result"
    }
   ],
   "source": [
    "def flatten_dict(dictionary, key_prefix='', separator='.'):\n",
    "    result = []\n",
    "    for k, v in dictionary.items():\n",
    "        flattened_key = key_prefix + k\n",
    "        if isinstance(v, dict):\n",
    "            result.extend(flatten_dict(v, flattened_key + separator, separator=separator).items())\n",
    "        else:\n",
    "            result.append((flattened_key, v))\n",
    "    return dict(result)\n",
    "\n",
    "flatten_dict(nested_dict)"
   ]
  },
  {
   "cell_type": "code",
   "execution_count": 1,
   "metadata": {},
   "outputs": [
    {
     "data": {
      "text/plain": [
       "0"
      ]
     },
     "execution_count": 1,
     "metadata": {},
     "output_type": "execute_result"
    }
   ],
   "source": [
    "def x_dependent(x):\n",
    "    return {\n",
    "        'a': 1,\n",
    "        'b': 2\n",
    "    }.get(x, 0)\n",
    "\n",
    "x_dependent('c')"
   ]
  },
  {
   "cell_type": "code",
   "execution_count": 2,
   "metadata": {},
   "outputs": [
    {
     "name": "stdout",
     "output_type": "stream",
     "text": [
      "This is case 2\n"
     ]
    }
   ],
   "source": [
    "def case_1():\n",
    "    print('This is case 1')\n",
    "    \n",
    "def case_2():\n",
    "    print('This is case 2')\n",
    "    \n",
    "def case_3():\n",
    "    print('You have reached case 3.')\n",
    "    \n",
    "case_dict = {\n",
    "    '1': case_1,\n",
    "    '2': case_2,\n",
    "    '3': case_3\n",
    "}\n",
    "\n",
    "case_dict['2']() # python switch-case statements equivalent"
   ]
  },
  {
   "cell_type": "code",
   "execution_count": 4,
   "metadata": {},
   "outputs": [
    {
     "data": {
      "text/plain": [
       "{'a': 1, 'b': 2, 'c': 3, 'd': 4}"
      ]
     },
     "execution_count": 4,
     "metadata": {},
     "output_type": "execute_result"
    }
   ],
   "source": [
    "x = {\n",
    "    'a': 1,\n",
    "    'b': 2\n",
    "}\n",
    "\n",
    "y = {\n",
    "    'c': 3,\n",
    "    'd': 4\n",
    "}\n",
    "\n",
    "z = {}\n",
    "\n",
    "for k, v in x.items():\n",
    "    z[k] = v\n",
    "    \n",
    "for k, v in y.items():\n",
    "    z[k] = v\n",
    "    \n",
    "z"
   ]
  },
  {
   "cell_type": "code",
   "execution_count": 5,
   "metadata": {},
   "outputs": [
    {
     "data": {
      "text/plain": [
       "{'a': 1, 'b': 2, 'c': 3, 'd': 4}"
      ]
     },
     "execution_count": 5,
     "metadata": {},
     "output_type": "execute_result"
    }
   ],
   "source": [
    "x = {\n",
    "    'a': 1,\n",
    "    'b': 2\n",
    "}\n",
    "\n",
    "y = {\n",
    "    'c': 3,\n",
    "    'd': 4\n",
    "}\n",
    "\n",
    "dictionaries = [x, y]\n",
    "\n",
    "for dictionary in dictionaries:\n",
    "    for key, value in dictionary.items():\n",
    "        z[key] = value\n",
    "        \n",
    "z"
   ]
  },
  {
   "cell_type": "code",
   "execution_count": 7,
   "metadata": {},
   "outputs": [
    {
     "data": {
      "text/plain": [
       "{'a': 1, 'b': 2, 'c': 3, 'd': 4}"
      ]
     },
     "execution_count": 7,
     "metadata": {},
     "output_type": "execute_result"
    }
   ],
   "source": [
    "x = {\n",
    "    'a': 1,\n",
    "    'b': 2\n",
    "}\n",
    "\n",
    "y = {\n",
    "    'c': 3,\n",
    "    'd': 4\n",
    "}\n",
    "\n",
    "dict(**x, **y)"
   ]
  },
  {
   "cell_type": "code",
   "execution_count": 9,
   "metadata": {},
   "outputs": [
    {
     "data": {
      "text/plain": [
       "{'x': 1, 'y': 2, 'z': 3}"
      ]
     },
     "execution_count": 9,
     "metadata": {},
     "output_type": "execute_result"
    }
   ],
   "source": [
    "keys = ['x', 'y', 'z']\n",
    "values = [1, 2, 3]\n",
    "\n",
    "dict((k, v) for k, v in zip(keys, values)) # if statement"
   ]
  }
 ],
 "metadata": {
  "kernelspec": {
   "display_name": "Python 3",
   "language": "python",
   "name": "python3"
  },
  "language_info": {
   "codemirror_mode": {
    "name": "ipython",
    "version": 3
   },
   "file_extension": ".py",
   "mimetype": "text/x-python",
   "name": "python",
   "nbconvert_exporter": "python",
   "pygments_lexer": "ipython3",
   "version": "3.7.1"
  }
 },
 "nbformat": 4,
 "nbformat_minor": 2
}
