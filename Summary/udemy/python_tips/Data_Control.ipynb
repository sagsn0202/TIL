{
 "cells": [
  {
   "cell_type": "code",
   "execution_count": 2,
   "metadata": {},
   "outputs": [
    {
     "name": "stdout",
     "output_type": "stream",
     "text": [
      "1. angenla\n",
      "2. john\n",
      "3. mary\n",
      "4. sam\n"
     ]
    }
   ],
   "source": [
    "x = ['angenla', 'john', 'mary', 'sam']\n",
    "\n",
    "person_no = 1\n",
    "for name in x:\n",
    "    print(str(person_no) + '. ' + name)\n",
    "    person_no += 1"
   ]
  },
  {
   "cell_type": "code",
   "execution_count": 4,
   "metadata": {},
   "outputs": [
    {
     "data": {
      "text/plain": [
       "<enumerate at 0x106f07828>"
      ]
     },
     "execution_count": 4,
     "metadata": {},
     "output_type": "execute_result"
    }
   ],
   "source": [
    "enumerate(x)"
   ]
  },
  {
   "cell_type": "code",
   "execution_count": 5,
   "metadata": {},
   "outputs": [
    {
     "data": {
      "text/plain": [
       "[(0, 'angenla'), (1, 'john'), (2, 'mary'), (3, 'sam')]"
      ]
     },
     "execution_count": 5,
     "metadata": {},
     "output_type": "execute_result"
    }
   ],
   "source": [
    "list(enumerate(x))"
   ]
  },
  {
   "cell_type": "code",
   "execution_count": 7,
   "metadata": {},
   "outputs": [
    {
     "name": "stdout",
     "output_type": "stream",
     "text": [
      "1. angenla\n",
      "2. john\n",
      "3. mary\n",
      "4. sam\n"
     ]
    }
   ],
   "source": [
    "for idx, val in enumerate(x):\n",
    "    print(str(idx + 1) + '. ' + val )"
   ]
  },
  {
   "cell_type": "code",
   "execution_count": 8,
   "metadata": {},
   "outputs": [],
   "source": [
    "def some_function():\n",
    "    return 'John', 'Java', 12\n",
    "\n",
    "name, language, years = some_function()"
   ]
  },
  {
   "cell_type": "code",
   "execution_count": 9,
   "metadata": {},
   "outputs": [
    {
     "data": {
      "text/plain": [
       "'John'"
      ]
     },
     "execution_count": 9,
     "metadata": {},
     "output_type": "execute_result"
    }
   ],
   "source": [
    "name"
   ]
  },
  {
   "cell_type": "code",
   "execution_count": 10,
   "metadata": {},
   "outputs": [
    {
     "data": {
      "text/plain": [
       "'Java'"
      ]
     },
     "execution_count": 10,
     "metadata": {},
     "output_type": "execute_result"
    }
   ],
   "source": [
    "language"
   ]
  },
  {
   "cell_type": "code",
   "execution_count": 11,
   "metadata": {},
   "outputs": [
    {
     "data": {
      "text/plain": [
       "12"
      ]
     },
     "execution_count": 11,
     "metadata": {},
     "output_type": "execute_result"
    }
   ],
   "source": [
    "years"
   ]
  },
  {
   "cell_type": "code",
   "execution_count": 13,
   "metadata": {},
   "outputs": [],
   "source": [
    "name, language, years = some_function()\n",
    "summary_statistics = {}\n",
    "summary_statistics[language] = 0\n",
    "summary_statistics[language] += years"
   ]
  },
  {
   "cell_type": "code",
   "execution_count": 14,
   "metadata": {},
   "outputs": [
    {
     "data": {
      "text/plain": [
       "{'Java': 12}"
      ]
     },
     "execution_count": 14,
     "metadata": {},
     "output_type": "execute_result"
    }
   ],
   "source": [
    "summary_statistics"
   ]
  },
  {
   "cell_type": "code",
   "execution_count": 15,
   "metadata": {},
   "outputs": [],
   "source": [
    "_, language, years = some_function()\n",
    "summary_statistics = {}\n",
    "summary_statistics[language] = 0\n",
    "summary_statistics[language] += years"
   ]
  },
  {
   "cell_type": "code",
   "execution_count": 16,
   "metadata": {},
   "outputs": [
    {
     "data": {
      "text/plain": [
       "{'Java': 12}"
      ]
     },
     "execution_count": 16,
     "metadata": {},
     "output_type": "execute_result"
    }
   ],
   "source": [
    "summary_statistics"
   ]
  },
  {
   "cell_type": "code",
   "execution_count": 18,
   "metadata": {},
   "outputs": [],
   "source": [
    "#for age, _, _, language in careers:\n",
    "#    pass"
   ]
  },
  {
   "cell_type": "code",
   "execution_count": 19,
   "metadata": {},
   "outputs": [
    {
     "name": "stdout",
     "output_type": "stream",
     "text": [
      "1\n",
      "2\n",
      "3\n",
      "4\n",
      "5\n"
     ]
    }
   ],
   "source": [
    "xs = [1, 2, 3, 4, 5]\n",
    "for x in xs:\n",
    "    print(x)"
   ]
  },
  {
   "cell_type": "code",
   "execution_count": 20,
   "metadata": {},
   "outputs": [
    {
     "data": {
      "text/plain": [
       "[3]"
      ]
     },
     "execution_count": 20,
     "metadata": {},
     "output_type": "execute_result"
    }
   ],
   "source": [
    "[x for x in xs if x == 3]"
   ]
  },
  {
   "cell_type": "code",
   "execution_count": 21,
   "metadata": {},
   "outputs": [
    {
     "name": "stdout",
     "output_type": "stream",
     "text": [
      "No match\n"
     ]
    }
   ],
   "source": [
    "filtered_xs = [x for x in xs if x == 10]\n",
    "if len(filtered_xs) == 0:\n",
    "    print('No match')\n",
    "else:\n",
    "    print('Matched')"
   ]
  },
  {
   "cell_type": "code",
   "execution_count": 22,
   "metadata": {},
   "outputs": [
    {
     "name": "stdout",
     "output_type": "stream",
     "text": [
      "No match\n"
     ]
    }
   ],
   "source": [
    "filtered_xs = []\n",
    "for x in xs:\n",
    "    if x == 10:\n",
    "        filtered_xs.append(x)\n",
    "else:\n",
    "    print('No match')"
   ]
  },
  {
   "cell_type": "code",
   "execution_count": 23,
   "metadata": {},
   "outputs": [
    {
     "name": "stdout",
     "output_type": "stream",
     "text": [
      "[1, 2, [3, 4, 5, 'knight']]\n"
     ]
    }
   ],
   "source": [
    "x = [1, 2, [3, 4, 5, 'knight']]\n",
    "print(x)"
   ]
  },
  {
   "cell_type": "code",
   "execution_count": 25,
   "metadata": {},
   "outputs": [
    {
     "name": "stdout",
     "output_type": "stream",
     "text": [
      "[\n",
      "    1,\n",
      "    2,\n",
      "    [3, 4, 5, 'knight'],\n",
      "]\n"
     ]
    }
   ],
   "source": [
    "print('[')\n",
    "for sublist in x:\n",
    "    print('    ' + str(sublist) + ',')\n",
    "print(']')"
   ]
  },
  {
   "cell_type": "code",
   "execution_count": 26,
   "metadata": {},
   "outputs": [
    {
     "name": "stdout",
     "output_type": "stream",
     "text": [
      "[1, 2, [3, 4, 5, 'knight', [3, 4, 5, 'knight']], 15]\n"
     ]
    }
   ],
   "source": [
    "x = [1, 2, [3, 4, 5, 'knight', [3, 4, 5, 'knight']], 15]\n",
    "print(x)"
   ]
  },
  {
   "cell_type": "code",
   "execution_count": 28,
   "metadata": {},
   "outputs": [
    {
     "name": "stdout",
     "output_type": "stream",
     "text": [
      "[\n",
      "    [\n",
      "        1,\n",
      "    ]\n",
      "    [\n",
      "        2,\n",
      "    ]\n",
      "    [\n",
      "        [3, 4, 5, 'knight', [3, 4, 5, 'knight']],\n",
      "    ]\n",
      "    [\n",
      "        15,\n",
      "    ]\n",
      "]\n"
     ]
    }
   ],
   "source": [
    "print('[')\n",
    "for sublist in x:\n",
    "    print('    [')\n",
    "    if type(sublist) == 'list':\n",
    "        for subsublist in sublist:\n",
    "            print('        ' + str(subsublist))\n",
    "    else:\n",
    "        print('        ' + str(sublist) + ',')\n",
    "    print('    ]')\n",
    "print(']')"
   ]
  },
  {
   "cell_type": "code",
   "execution_count": 29,
   "metadata": {},
   "outputs": [
    {
     "name": "stdout",
     "output_type": "stream",
     "text": [
      "[1, 2, [3, 4, 5, 'knight', [3, 4, 5, 'knight']], 15]\n"
     ]
    }
   ],
   "source": [
    "import pprint\n",
    "pprint.pprint(x)"
   ]
  },
  {
   "cell_type": "code",
   "execution_count": 30,
   "metadata": {},
   "outputs": [
    {
     "name": "stdout",
     "output_type": "stream",
     "text": [
      "[1,\n",
      " 2,\n",
      " [3,\n",
      "  4,\n",
      "  5,\n",
      "  'knight',\n",
      "  [3,\n",
      "   4,\n",
      "   5,\n",
      "   'knight']],\n",
      " 15]\n"
     ]
    }
   ],
   "source": [
    "pprint.pprint(x, width=20)"
   ]
  },
  {
   "cell_type": "code",
   "execution_count": 31,
   "metadata": {},
   "outputs": [
    {
     "name": "stdout",
     "output_type": "stream",
     "text": [
      "[   1,\n",
      "    2,\n",
      "    [   3,\n",
      "        4,\n",
      "        5,\n",
      "        'knight',\n",
      "        [   3,\n",
      "            4,\n",
      "            5,\n",
      "            'knight']],\n",
      "    15]\n"
     ]
    }
   ],
   "source": [
    "pprint.pprint(x, width=20, indent=4)"
   ]
  },
  {
   "cell_type": "code",
   "execution_count": 32,
   "metadata": {},
   "outputs": [
    {
     "name": "stdout",
     "output_type": "stream",
     "text": [
      "[1, 2, [...], 15]\n"
     ]
    }
   ],
   "source": [
    "pprint.pprint(x, width=20, indent=4, depth=1)"
   ]
  },
  {
   "cell_type": "code",
   "execution_count": 34,
   "metadata": {},
   "outputs": [
    {
     "name": "stdout",
     "output_type": "stream",
     "text": [
      "[1,\n",
      " 2,\n",
      " [3,\n",
      "  4,\n",
      "  5,\n",
      "  'knight',\n",
      "  [...]],\n",
      " 15]\n"
     ]
    }
   ],
   "source": [
    "from pprint import pprint as _p\n",
    "_p(x, width=20, depth=2)"
   ]
  },
  {
   "cell_type": "code",
   "execution_count": null,
   "metadata": {},
   "outputs": [],
   "source": [
    "for _ in range(1e5):\n",
    "    open('sample_folder_structure.txt', 'r')"
   ]
  },
  {
   "cell_type": "code",
   "execution_count": null,
   "metadata": {},
   "outputs": [],
   "source": [
    "for _ in range(1e5):\n",
    "    f = open('sample_folder_structure.txt', 'r')\n",
    "    # do something here\n",
    "    for line in f:\n",
    "        print(line)\n",
    "    f.close()"
   ]
  },
  {
   "cell_type": "code",
   "execution_count": null,
   "metadata": {},
   "outputs": [],
   "source": [
    "with open('sample_folder_structure.txt', 'r') as f:\n",
    "    for line in f:\n",
    "        print(line)"
   ]
  },
  {
   "cell_type": "code",
   "execution_count": null,
   "metadata": {},
   "outputs": [],
   "source": [
    "# testing\n",
    "def dummy_test(self):\n",
    "    with self.assertRaises(TypeError):\n",
    "        ' '.join(2)"
   ]
  },
  {
   "cell_type": "code",
   "execution_count": null,
   "metadata": {},
   "outputs": [],
   "source": [
    "# threading\n",
    "with threading.RLock():\n",
    "    access_resource()"
   ]
  },
  {
   "cell_type": "code",
   "execution_count": null,
   "metadata": {},
   "outputs": [],
   "source": [
    "# connecting to external resources\n",
    "conn = sqlite3.connect(':memory:')\n",
    "with conn:\n",
    "    conn.execure('select * from table')"
   ]
  }
 ],
 "metadata": {
  "kernelspec": {
   "display_name": "Python 3",
   "language": "python",
   "name": "python3"
  },
  "language_info": {
   "codemirror_mode": {
    "name": "ipython",
    "version": 3
   },
   "file_extension": ".py",
   "mimetype": "text/x-python",
   "name": "python",
   "nbconvert_exporter": "python",
   "pygments_lexer": "ipython3",
   "version": "3.7.1"
  }
 },
 "nbformat": 4,
 "nbformat_minor": 2
}
