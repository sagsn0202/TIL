{
 "cells": [
  {
   "cell_type": "markdown",
   "metadata": {},
   "source": [
    "autograd를 알아보자"
   ]
  },
  {
   "cell_type": "code",
   "execution_count": 2,
   "metadata": {},
   "outputs": [
    {
     "name": "stdout",
     "output_type": "stream",
     "text": [
      "tensor([[1., 1.],\n",
      "        [1., 1.]], requires_grad=True)\n"
     ]
    }
   ],
   "source": [
    "import torch\n",
    "from torch.autograd import Variable\n",
    "\n",
    "x = Variable(torch.ones(2, 2), requires_grad=True)\n",
    "print(x)"
   ]
  },
  {
   "cell_type": "code",
   "execution_count": 3,
   "metadata": {},
   "outputs": [
    {
     "name": "stdout",
     "output_type": "stream",
     "text": [
      "tensor([[3., 3.],\n",
      "        [3., 3.]], grad_fn=<AddBackward0>)\n",
      "<AddBackward0 object at 0x10d0faeb8>\n"
     ]
    }
   ],
   "source": [
    "y = x + 2\n",
    "print(y)\n",
    "print(y.grad_fn)"
   ]
  },
  {
   "cell_type": "code",
   "execution_count": 4,
   "metadata": {},
   "outputs": [
    {
     "name": "stdout",
     "output_type": "stream",
     "text": [
      "tensor([[27., 27.],\n",
      "        [27., 27.]], grad_fn=<MulBackward0>) tensor(27., grad_fn=<MeanBackward1>)\n"
     ]
    }
   ],
   "source": [
    "z = y ** 2 * 3\n",
    "out = z.mean()\n",
    "print(z, out)"
   ]
  },
  {
   "cell_type": "code",
   "execution_count": 5,
   "metadata": {},
   "outputs": [
    {
     "name": "stdout",
     "output_type": "stream",
     "text": [
      "tensor([[4.5000, 4.5000],\n",
      "        [4.5000, 4.5000]])\n"
     ]
    }
   ],
   "source": [
    "out.backward()\n",
    "print(x.grad)"
   ]
  },
  {
   "cell_type": "markdown",
   "metadata": {},
   "source": [
    "실제로 해볼까?"
   ]
  },
  {
   "cell_type": "markdown",
   "metadata": {},
   "source": [
    "sum을 알아보자."
   ]
  },
  {
   "cell_type": "code",
   "execution_count": 12,
   "metadata": {},
   "outputs": [
    {
     "name": "stdout",
     "output_type": "stream",
     "text": [
      "tensor([[[-1.4149, -0.7851, -0.6575, -1.7467],\n",
      "         [-0.5330, -1.3436, -2.6032, -1.1334],\n",
      "         [ 0.6661,  1.1374,  0.5445,  0.6232],\n",
      "         [-0.4807, -0.8843, -0.7020, -0.4060]],\n",
      "\n",
      "        [[-0.3075,  1.0332,  0.1442, -0.3699],\n",
      "         [ 0.4513,  2.1771, -1.0212, -0.4164],\n",
      "         [-0.7743,  1.5907,  0.2185, -0.5893],\n",
      "         [-0.8135,  0.6542,  0.2552,  1.0941]],\n",
      "\n",
      "        [[-1.3460,  1.6761,  0.1953, -2.0411],\n",
      "         [-0.9927, -1.0136, -0.5453,  0.5582],\n",
      "         [ 0.0067, -1.8157, -2.1219, -1.1818],\n",
      "         [-0.9966,  1.6804,  0.5346,  0.4292]],\n",
      "\n",
      "        [[-0.9246,  0.3626,  0.0710,  1.1230],\n",
      "         [-2.7487,  0.3232, -0.3732, -1.1262],\n",
      "         [ 0.6088, -1.6641, -0.7012,  0.4911],\n",
      "         [-0.2628, -0.1010,  1.0371,  0.9469]]])\n"
     ]
    }
   ],
   "source": [
    "a = torch.randn(4, 4, 4)\n",
    "print(a)"
   ]
  },
  {
   "cell_type": "code",
   "execution_count": 24,
   "metadata": {
    "scrolled": true
   },
   "outputs": [
    {
     "data": {
      "text/plain": [
       "tensor(-16.3050)"
      ]
     },
     "execution_count": 24,
     "metadata": {},
     "output_type": "execute_result"
    }
   ],
   "source": [
    "torch.sum(a)"
   ]
  },
  {
   "cell_type": "markdown",
   "metadata": {},
   "source": [
    "dim은 axis이다."
   ]
  },
  {
   "cell_type": "code",
   "execution_count": 28,
   "metadata": {},
   "outputs": [
    {
     "data": {
      "text/plain": [
       "tensor([[-3.9930,  2.2868, -0.2470, -3.0348],\n",
       "        [-3.8232,  0.1431, -4.5429, -2.1177],\n",
       "        [ 0.5074, -0.7517, -2.0601, -0.6568],\n",
       "        [-2.5536,  1.3493,  1.1249,  2.0642]])"
      ]
     },
     "execution_count": 28,
     "metadata": {},
     "output_type": "execute_result"
    }
   ],
   "source": [
    "torch.sum(a, 0)"
   ]
  },
  {
   "cell_type": "code",
   "execution_count": 25,
   "metadata": {},
   "outputs": [
    {
     "data": {
      "text/plain": [
       "tensor([[-1.7624, -1.8756, -3.4182, -2.6629],\n",
       "        [-1.4440,  5.4553, -0.4033, -0.2815],\n",
       "        [-3.3286,  0.5272, -1.9374, -2.2355],\n",
       "        [-3.3273, -1.0793,  0.0338,  1.4347]])"
      ]
     },
     "execution_count": 25,
     "metadata": {},
     "output_type": "execute_result"
    }
   ],
   "source": [
    "torch.sum(a, 1)"
   ]
  },
  {
   "cell_type": "code",
   "execution_count": 26,
   "metadata": {},
   "outputs": [
    {
     "data": {
      "text/plain": [
       "tensor([[-4.6042, -5.6132,  2.9712, -2.4729],\n",
       "        [ 0.5000,  1.1909,  0.4456,  1.1900],\n",
       "        [-1.5158, -1.9934, -5.1127,  1.6477],\n",
       "        [ 0.6320, -3.9250, -1.2653,  1.6201]])"
      ]
     },
     "execution_count": 26,
     "metadata": {},
     "output_type": "execute_result"
    }
   ],
   "source": [
    "torch.sum(a, 2)"
   ]
  },
  {
   "cell_type": "markdown",
   "metadata": {},
   "source": [
    "조금 더 확실히 보자."
   ]
  },
  {
   "cell_type": "code",
   "execution_count": 31,
   "metadata": {
    "scrolled": true
   },
   "outputs": [
    {
     "data": {
      "text/plain": [
       "tensor([[[-3.9930,  2.2868, -0.2470, -3.0348],\n",
       "         [-3.8232,  0.1431, -4.5429, -2.1177],\n",
       "         [ 0.5074, -0.7517, -2.0601, -0.6568],\n",
       "         [-2.5536,  1.3493,  1.1249,  2.0642]]])"
      ]
     },
     "execution_count": 31,
     "metadata": {},
     "output_type": "execute_result"
    }
   ],
   "source": [
    "torch.sum(a, 0, keepdim=True)"
   ]
  },
  {
   "cell_type": "code",
   "execution_count": 32,
   "metadata": {},
   "outputs": [
    {
     "data": {
      "text/plain": [
       "tensor([[[-1.7624, -1.8756, -3.4182, -2.6629]],\n",
       "\n",
       "        [[-1.4440,  5.4553, -0.4033, -0.2815]],\n",
       "\n",
       "        [[-3.3286,  0.5272, -1.9374, -2.2355]],\n",
       "\n",
       "        [[-3.3273, -1.0793,  0.0338,  1.4347]]])"
      ]
     },
     "execution_count": 32,
     "metadata": {},
     "output_type": "execute_result"
    }
   ],
   "source": [
    "torch.sum(a, 1, keepdim=True)"
   ]
  },
  {
   "cell_type": "code",
   "execution_count": 33,
   "metadata": {},
   "outputs": [
    {
     "data": {
      "text/plain": [
       "tensor([[[-4.6042],\n",
       "         [-5.6132],\n",
       "         [ 2.9712],\n",
       "         [-2.4729]],\n",
       "\n",
       "        [[ 0.5000],\n",
       "         [ 1.1909],\n",
       "         [ 0.4456],\n",
       "         [ 1.1900]],\n",
       "\n",
       "        [[-1.5158],\n",
       "         [-1.9934],\n",
       "         [-5.1127],\n",
       "         [ 1.6477]],\n",
       "\n",
       "        [[ 0.6320],\n",
       "         [-3.9250],\n",
       "         [-1.2653],\n",
       "         [ 1.6201]]])"
      ]
     },
     "execution_count": 33,
     "metadata": {},
     "output_type": "execute_result"
    }
   ],
   "source": [
    "torch.sum(a, 2, keepdim=True)"
   ]
  },
  {
   "cell_type": "markdown",
   "metadata": {},
   "source": [
    "view의 활용"
   ]
  },
  {
   "cell_type": "code",
   "execution_count": 5,
   "metadata": {
    "scrolled": true
   },
   "outputs": [
    {
     "name": "stdout",
     "output_type": "stream",
     "text": [
      "tensor([[ 1.4413, -0.6682,  2.1738,  1.8203],\n",
      "        [ 1.2624, -0.5270, -0.2141,  0.7535],\n",
      "        [-0.5452,  0.3324,  0.0871, -0.3054],\n",
      "        [ 1.7908, -0.9432,  0.8418, -0.5915]])\n"
     ]
    }
   ],
   "source": [
    "x = torch.randn(4, 4)\n",
    "print(x)"
   ]
  },
  {
   "cell_type": "code",
   "execution_count": 38,
   "metadata": {},
   "outputs": [
    {
     "name": "stdout",
     "output_type": "stream",
     "text": [
      "tensor([[ 1.5808, -1.8178],\n",
      "        [-0.2032, -0.4119],\n",
      "        [-0.1843,  0.5460],\n",
      "        [ 1.2609, -0.4491],\n",
      "        [ 0.9133, -0.3498],\n",
      "        [-0.1893, -0.7692],\n",
      "        [ 1.0524,  1.2463],\n",
      "        [-0.0778,  0.0379]])\n"
     ]
    }
   ],
   "source": [
    "y = x.view(-1, 2)\n",
    "print(y)"
   ]
  },
  {
   "cell_type": "code",
   "execution_count": 6,
   "metadata": {
    "scrolled": true
   },
   "outputs": [
    {
     "name": "stdout",
     "output_type": "stream",
     "text": [
      "tensor([[ 1.4413, -0.6682,  2.1738,  1.8203,  1.2624, -0.5270, -0.2141,  0.7535,\n",
      "         -0.5452,  0.3324,  0.0871, -0.3054,  1.7908, -0.9432,  0.8418, -0.5915]])\n"
     ]
    }
   ],
   "source": [
    "z = x.view(-1, 16)\n",
    "print(z)"
   ]
  }
 ],
 "metadata": {
  "kernelspec": {
   "display_name": "Python 3",
   "language": "python",
   "name": "python3"
  },
  "language_info": {
   "codemirror_mode": {
    "name": "ipython",
    "version": 3
   },
   "file_extension": ".py",
   "mimetype": "text/x-python",
   "name": "python",
   "nbconvert_exporter": "python",
   "pygments_lexer": "ipython3",
   "version": "3.7.1"
  }
 },
 "nbformat": 4,
 "nbformat_minor": 2
}
