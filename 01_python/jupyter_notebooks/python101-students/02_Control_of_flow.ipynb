{
 "cells": [
  {
   "cell_type": "markdown",
   "metadata": {
    "slideshow": {
     "slide_type": "slide"
    }
   },
   "source": [
    "# 조건문\n",
    "\n",
    "지금까지의 코드는 위에서부터 아래로 순차적으로 명령을 수행하는 프로그램을 작성하였다. \n",
    "\n",
    "제어문(Control of Flow)은 크게 반복문과 조건문으로 나눌 수 있고, 이는 순서도(Flow chart로 표현이 가능하다.)\n",
    "\n",
    "\n",
    "<center> \n",
    "    <img src=\"./images/02/if.png\", alt='if flowchart'/>\n",
    "</center>\n"
   ]
  },
  {
   "cell_type": "code",
   "execution_count": 1,
   "metadata": {
    "scrolled": true,
    "slideshow": {
     "slide_type": "subslide"
    }
   },
   "outputs": [
    {
     "name": "stdout",
     "output_type": "stream",
     "text": [
      "5 이하\n",
      "5\n"
     ]
    }
   ],
   "source": [
    "# 위의 flow chart로 표현하면 아래와 같다.\n",
    "a = 5\n",
    "\n",
    "if a > 5:\n",
    "    print(\"5 초과\")\n",
    "else:\n",
    "    print(\"5 이하\")\n",
    "\n",
    "print(a)"
   ]
  },
  {
   "cell_type": "markdown",
   "metadata": {
    "slideshow": {
     "slide_type": "slide"
    }
   },
   "source": [
    "## 조건문 문법\n",
    "\n",
    "1. `if` 문은 반드시 일정한 참/거짓을 판단할 수 있는 `조건식`과 함께 사용이 되어야한다.\n",
    "`if <조건식>:`\n",
    "\n",
    "2-1. `<조건식>`이 참인 경우 `:` 이후의 문장을 수행한다.\n",
    "\n",
    "2-2. `<조건식>`이 거짓인 경우 `else:` 이후의 문장을 수행한다.\n",
    "\n",
    "* 이때 반드시 **들여쓰기를** 유의해야한다. \n",
    "파이썬에서는 코드 블록을 자바나 C언어의 `{}`와 달리 `들여쓰기`로 판단하기 때문이다.\n",
    "* 앞으로 우리는 `PEP-8`에서 권장하는 `4spaces`를 사용할 것이다.\n"
   ]
  },
  {
   "cell_type": "markdown",
   "metadata": {},
   "source": [
    "<center>\n",
    "    <img src=\"./images/02/if_style.png\", alt=\"if style\"/>\n",
    "</center>"
   ]
  },
  {
   "cell_type": "markdown",
   "metadata": {
    "slideshow": {
     "slide_type": "subslide"
    }
   },
   "source": [
    "<center><strong style=\"font-size: 40px;\">우리는 4spaces를 맞춰서 씁니다!</strong></center>\n",
    "<br>\n",
    "\n",
    "<center>\n",
    "    <img src=\"./images/02/spacetab.png\", alt=\"[space vs tab]\"/>\n",
    "</center>    \n",
    "\n",
    "\n",
    "\n",
    "\n",
    "[출처 : 400,000 GitHub repositories, 1 billion files, 14 terabytes of code: Spaces or Tabs?](https://medium.com/@hoffa/400-000-github-repositories-1-billion-files-14-terabytes-of-code-spaces-or-tabs-7cfe0b5dd7fd)\n"
   ]
  },
  {
   "cell_type": "markdown",
   "metadata": {},
   "source": [
    "### 실습문제1 - 조건문 기초 활용\n",
    "\n",
    "\n",
    "> **조건문을 통해 변수 num의 값과 홀수/짝수 여부를 출력하세요.**\n",
    "\n",
    "---\n",
    "\n",
    "```\n",
    "예시 출력)\n",
    "3\n",
    "홀수입니다.\n",
    "```"
   ]
  },
  {
   "cell_type": "code",
   "execution_count": 4,
   "metadata": {
    "scrolled": true,
    "slideshow": {
     "slide_type": "subslide"
    }
   },
   "outputs": [
    {
     "name": "stdout",
     "output_type": "stream",
     "text": [
      "점수를 입력하세요 : ㄹㅇㄹ\n",
      "정수를 입력하세요.\n",
      "점수를 입력하세요 : ㅇㄹㅇㄹㅇ\n",
      "정수를 입력하세요.\n",
      "점수를 입력하세요 : ㅇㄹㅇㄹ\n",
      "정수를 입력하세요.\n",
      "점수를 입력하세요 : 3\n",
      "홀수입니다.\n"
     ]
    }
   ],
   "source": [
    "# 실습!\n",
    "while True:\n",
    "    try:\n",
    "        num = int(input(\"점수를 입력하세요 : \"))\n",
    "        break\n",
    "    except ValueError:\n",
    "        print(\"정수를 입력하세요.\")\n",
    "        \n",
    "if num % 2 == 0:\n",
    "    print(\"짝수입니다.\")\n",
    "else:\n",
    "    print(\"홀수입니다.\")"
   ]
  },
  {
   "cell_type": "markdown",
   "metadata": {},
   "source": [
    "### 실습문제2\n",
    "> 아래 코드의 출력 결과를 예상해보세요."
   ]
  },
  {
   "cell_type": "code",
   "execution_count": 5,
   "metadata": {},
   "outputs": [
    {
     "name": "stdout",
     "output_type": "stream",
     "text": [
      "3\n",
      "5\n"
     ]
    }
   ],
   "source": [
    "if True:\n",
    "    if False:\n",
    "        print(1)\n",
    "        print(2)\n",
    "    else:\n",
    "        print(3)\n",
    "else:\n",
    "    print(4)\n",
    "print(5)\n",
    "\n",
    "# Answer: 3, 5"
   ]
  },
  {
   "cell_type": "markdown",
   "metadata": {},
   "source": [
    "### 실습문제3\n",
    "> 택시를 타려면 주머니에 4000원 이상 혹은 카드가 있어야 한다. 이 때 택시를 탈 수 있는지를 확인하는 코드를 짜보자."
   ]
  },
  {
   "cell_type": "code",
   "execution_count": 2,
   "metadata": {},
   "outputs": [
    {
     "name": "stdout",
     "output_type": "stream",
     "text": [
      "현재 가지고 있는 돈을 입력하세요.6000\n",
      "카드가 있나요?(예/아니오)예\n",
      "Taxi\n"
     ]
    }
   ],
   "source": [
    "while True:\n",
    "    try:\n",
    "        money = int(input(\"현재 가지고 있는 돈을 입력하세요.\"))\n",
    "        break\n",
    "    except ValueError:\n",
    "        print(\"정수로 입력해주세요\")\n",
    "while True:\n",
    "    try:\n",
    "        card = {\"예\":True,\"아니오\":False}[input(\"카드가 있나요?(예/아니오)\").lower()]\n",
    "        break\n",
    "    except KeyError:\n",
    "        print(\"예 혹은 아니오로 입력해주세요.\")\n",
    "\n",
    "print(\"Taxi\") if money >= 4000 or card else print(\"BMW\")"
   ]
  },
  {
   "cell_type": "code",
   "execution_count": 2,
   "metadata": {},
   "outputs": [
    {
     "name": "stdout",
     "output_type": "stream",
     "text": [
      "Taxi\n"
     ]
    }
   ],
   "source": [
    "def is_taxi(money, card):\n",
    "    print(\"Taxi\") if money >= 4000 or card else print(\"BMW\")\n",
    "        \n",
    "is_taxi(5000, True)"
   ]
  },
  {
   "cell_type": "markdown",
   "metadata": {
    "slideshow": {
     "slide_type": "slide"
    }
   },
   "source": [
    "## 복수 조건문\n",
    "\n",
    "2개 이상의 조건문을 활용할 경우 `elif <조건식>:`을 활용한다.\n",
    "<center>\n",
    "<img src=\"./images/02/elif.png\", alt=\"elif\">\n",
    "</center>"
   ]
  },
  {
   "cell_type": "markdown",
   "metadata": {
    "slideshow": {
     "slide_type": "subslide"
    }
   },
   "source": [
    "### 실습문제4 - 조건식 2개 이상 활용하기\n",
    "\n",
    "> 조건문을 통해 변수 score에 따른 평점을 출력하세요.\n",
    "\n",
    "|점수|등급|\n",
    "|---|---|\n",
    "|90점 이상|A|\n",
    "|80점 이상|B|\n",
    "|70점 이상|C|\n",
    "|60점 이상|D|\n",
    "|60점 미만|F|\n",
    "\n",
    "--- \n",
    "\n",
    "```\n",
    "예시 출력)\n",
    "B\n",
    "```"
   ]
  },
  {
   "cell_type": "code",
   "execution_count": 5,
   "metadata": {
    "slideshow": {
     "slide_type": "-"
    }
   },
   "outputs": [
    {
     "name": "stdout",
     "output_type": "stream",
     "text": [
      "점수를 입력하세요 : A\n",
      "정수를 입력하세요.\n",
      "점수를 입력하세요 : 90\n",
      "A\n"
     ]
    }
   ],
   "source": [
    "# 실습!\n",
    "while True:\n",
    "    try:\n",
    "        score = int(input(\"점수를 입력하세요 : \"))\n",
    "        break\n",
    "    except ValueError:\n",
    "        print(\"정수를 입력하세요.\")\n",
    "        \n",
    "if score >= 90:\n",
    "    print(\"A\")\n",
    "elif score >= 80:\n",
    "    print(\"B\")\n",
    "elif score >= 70:\n",
    "    print(\"C\")\n",
    "elif score >= 60:\n",
    "    print(\"D\")\n",
    "else:\n",
    "    print(\"F\")"
   ]
  },
  {
   "cell_type": "markdown",
   "metadata": {
    "slideshow": {
     "slide_type": "subslide"
    }
   },
   "source": [
    "### 실습문제5 - 중첩 조건문 활용\n",
    "\n",
    "> **위의 실습문제 2코드를 활용하여 \n",
    "95점 이상이면, \"참잘했어요\"를 함께 출력해주세요**\n",
    "\n",
    "--- \n",
    "\n",
    "```\n",
    "예시 출력)\n",
    "A\n",
    "참잘했어요\n",
    "```"
   ]
  },
  {
   "cell_type": "code",
   "execution_count": 6,
   "metadata": {
    "scrolled": true
   },
   "outputs": [
    {
     "name": "stdout",
     "output_type": "stream",
     "text": [
      "A\n",
      "참잘했어요\n"
     ]
    }
   ],
   "source": [
    "# 실습!\n",
    "score = 96\n",
    "\n",
    "if score >= 90:\n",
    "    print(\"A\")\n",
    "    if score >= 95:\n",
    "        print(\"참잘했어요\")\n",
    "elif score >= 80:\n",
    "    print(\"B\")\n",
    "elif score >= 70:\n",
    "    print(\"C\")\n",
    "elif score >= 60:\n",
    "    print(\"D\")\n",
    "else:\n",
    "    print(\"F\")"
   ]
  },
  {
   "cell_type": "code",
   "execution_count": 27,
   "metadata": {
    "scrolled": true
   },
   "outputs": [
    {
     "name": "stdout",
     "output_type": "stream",
     "text": [
      "숫자를 입력하세요: ㅇ러ㅏㅇ\n",
      "정수를 입력하세요.\n",
      "숫자를 입력하세요: 75\n",
      "Fizz Buzz\n"
     ]
    },
    {
     "data": {
      "text/plain": [
       "\"\\nif number % 15 == 0:\\n    return 'Fizz Buzz'\\nelif number % 5 == 0:\\n    return 'Buzz'\\nelif number % 3 == 0:\\n    return 'Fizz'\\n\""
      ]
     },
     "execution_count": 27,
     "metadata": {},
     "output_type": "execute_result"
    }
   ],
   "source": [
    "#FizzBuzz\n",
    "while True:\n",
    "    try:\n",
    "        n = int(input(\"숫자를 입력하세요: \"))\n",
    "        break\n",
    "    except ValueError:\n",
    "        print(\"정수를 입력하세요.\")\n",
    "        \n",
    "print(\"Fizz\" * (not n % 3) + \" \" * (not n % 15) + \"Buzz\" * (not n % 5))\n",
    "\n",
    "\n",
    "# if number % 15 == 0:\n",
    "#     return 'Fizz Buzz'\n",
    "# elif number % 5 == 0:\n",
    "#     return 'Buzz'\n",
    "# elif number % 3 == 0:\n",
    "#     return 'Fizz'\n",
    "# else:\n",
    "#     str(number)"
   ]
  },
  {
   "cell_type": "markdown",
   "metadata": {},
   "source": [
    "### 실습문제6\n",
    "> 정수 3개가 들어온다. 2번째로 큰 정수를 구하시오."
   ]
  },
  {
   "cell_type": "code",
   "execution_count": 6,
   "metadata": {
    "scrolled": true
   },
   "outputs": [
    {
     "data": {
      "text/plain": [
       "6"
      ]
     },
     "execution_count": 6,
     "metadata": {},
     "output_type": "execute_result"
    }
   ],
   "source": [
    "def second_number(a, b, c):\n",
    "    if a > b:\n",
    "        if a < c:\n",
    "            median = a\n",
    "        elif b > c:\n",
    "            median = b\n",
    "        else:\n",
    "            median = c\n",
    "    else:\n",
    "        if a > c:\n",
    "            median = a\n",
    "        elif b < c:\n",
    "            median = b\n",
    "        else:\n",
    "            median = c\n",
    "            \n",
    "    return median\n",
    "\n",
    "second_number(5, 6, 7)"
   ]
  },
  {
   "cell_type": "code",
   "execution_count": 11,
   "metadata": {
    "scrolled": false
   },
   "outputs": [
    {
     "name": "stdout",
     "output_type": "stream",
     "text": [
      "7\n",
      "7\n",
      "7\n",
      "7\n",
      "7\n",
      "7\n"
     ]
    }
   ],
   "source": [
    "def second_number(a, b, c):\n",
    "    if (b <= a <= c) or (c <= a <= b):\n",
    "        return a\n",
    "    elif (a <= b <= c) or (c <= b <= a):\n",
    "        return b\n",
    "    else:\n",
    "        return c\n",
    "    \n",
    "print(second_number(6, 7, 8))\n",
    "print(second_number(6, 8, 7))\n",
    "print(second_number(7, 6, 8))\n",
    "print(second_number(7, 8, 6))\n",
    "print(second_number(8, 6, 7))\n",
    "print(second_number(8, 7, 6))"
   ]
  },
  {
   "cell_type": "code",
   "execution_count": 10,
   "metadata": {
    "scrolled": true
   },
   "outputs": [
    {
     "name": "stdout",
     "output_type": "stream",
     "text": [
      "7\n",
      "7\n",
      "7\n",
      "7\n",
      "7\n",
      "7\n"
     ]
    }
   ],
   "source": [
    "def second_number(a, b, c):\n",
    "    if (a - b) * (a - c) < 0:\n",
    "        return a\n",
    "    elif (b - a) * (b - c) < 0:\n",
    "        return b\n",
    "    else:\n",
    "        return c\n",
    "        \n",
    "print(second_number(6, 7, 8))\n",
    "print(second_number(6, 8, 7))\n",
    "print(second_number(7, 6, 8))\n",
    "print(second_number(7, 8, 6))\n",
    "print(second_number(8, 6, 7))\n",
    "print(second_number(8, 7, 6))"
   ]
  },
  {
   "cell_type": "code",
   "execution_count": 12,
   "metadata": {
    "scrolled": true
   },
   "outputs": [
    {
     "name": "stdout",
     "output_type": "stream",
     "text": [
      "7\n",
      "7\n",
      "7\n",
      "7\n",
      "7\n",
      "7\n"
     ]
    }
   ],
   "source": [
    "def swap(numbers, idx_1, idx_2):\n",
    "    arr[idx_1], arr[idx_2] = arr[idx_2], arr[idx_1]\n",
    "\n",
    "def second_unknown(*numbers):\n",
    "    for elem in numbers:\n",
    "        for idx in range(len(numbers) - 1):\n",
    "            if numbers[idx] > numbers[idx + 1]:\n",
    "                swap(numbers, idx, idx + 1)\n",
    "                \n",
    "    return numbers[-2]\n",
    "\n",
    "print(second_number(6, 7, 8))\n",
    "print(second_number(6, 8, 7))\n",
    "print(second_number(7, 6, 8))\n",
    "print(second_number(7, 8, 6))\n",
    "print(second_number(8, 6, 7))\n",
    "print(second_number(8, 7, 6))"
   ]
  },
  {
   "cell_type": "markdown",
   "metadata": {},
   "source": [
    "### 실습문제7\n",
    "> 사용자가 뛰어쓰기를 기준으로, Volume 단위로 입력한다. 원화로 계산해서 print 해주자."
   ]
  },
  {
   "cell_type": "code",
   "execution_count": 5,
   "metadata": {
    "scrolled": false
   },
   "outputs": [
    {
     "name": "stdout",
     "output_type": "stream",
     "text": [
      "환전하고자 하는 화페를 입력하세요.(달러/엔/유로/위안)kfdlfs\n",
      "달러/엔/유로/위안으로 입력해주세요.\n",
      "환전하고자 하는 화페를 입력하세요.(달러/엔/유로/위안)jkskj\n",
      "달러/엔/유로/위안으로 입력해주세요.\n",
      "환전하고자 하는 화페를 입력하세요.(달러/엔/유로/위안)엔\n",
      "현재 가지고 있는 돈을 입력하세요.400\n"
     ]
    },
    {
     "data": {
      "text/plain": [
       "438400"
      ]
     },
     "execution_count": 5,
     "metadata": {},
     "output_type": "execute_result"
    }
   ],
   "source": [
    "currency = {\n",
    "    \"USD\": 1167,\n",
    "    \"JPY\": 10.96,\n",
    "    \"EUR\": 1268,\n",
    "    \"CNY\": 171\n",
    "}\n",
    "\n",
    "def get_currency():\n",
    "    while True:\n",
    "        try:\n",
    "            unit = {\"달러\":\"USD\",\"엔\":\"JPY\",\"유로\":\"EUR\",\"위안\":\"CNY\"}[input(\"환전하고자 하는 화페를 입력하세요.(달러/엔/유로/위안)\")]\n",
    "            break\n",
    "        except KeyError:\n",
    "            print(\"달러/엔/유로/위안으로 입력해주세요.\")\n",
    "\n",
    "    while True:\n",
    "        try:\n",
    "            money = int(input(\"현재 가지고 있는 돈을 입력하세요.\"))\n",
    "            break\n",
    "        except ValueError:\n",
    "            print(\"정수로 입력해주세요.\")\n",
    "            \n",
    "    return currency_calculator(unit, money)\n",
    "\n",
    "def currency_calculator(unit, money):\n",
    "    return round(money * currency[unit], 2)\n",
    "\n",
    "get_currency()"
   ]
  },
  {
   "cell_type": "markdown",
   "metadata": {
    "slideshow": {
     "slide_type": "slide"
    }
   },
   "source": [
    "## 조건 표현식(Conditional Expression)\n",
    "\n",
    "**활용법**\n",
    "\n",
    "```\n",
    "true_value if <조건식> else false_value\n",
    "```\n",
    "    \n",
    "와 같이 표현식을 작성할 수 있다. 이는 보통 다른 언어에서 활용되는 삼항연산자와 동일하다."
   ]
  },
  {
   "cell_type": "code",
   "execution_count": 3,
   "metadata": {},
   "outputs": [
    {
     "name": "stdout",
     "output_type": "stream",
     "text": [
      "숫자를 입력하세요 : 3\n",
      "3\n"
     ]
    }
   ],
   "source": [
    "num = int(input(\"숫자를 입력하세요 : \"))\n",
    "print(\"3임\") if num == 3 else print(\"3아님\")"
   ]
  },
  {
   "cell_type": "markdown",
   "metadata": {
    "slideshow": {
     "slide_type": "subslide"
    }
   },
   "source": [
    "* 표현식은 보통 조건에 따라 값을 정할 때 많이 활용된다."
   ]
  },
  {
   "cell_type": "code",
   "execution_count": 7,
   "metadata": {},
   "outputs": [
    {
     "name": "stdout",
     "output_type": "stream",
     "text": [
      "숫자를 입력하세요 : -5\n",
      "0\n"
     ]
    }
   ],
   "source": [
    "# 아래의 코드는 무엇을 위한 코드일까요?\n",
    "num = int(input(\"숫자를 입력하세요 : \"))\n",
    "value = num if num >= 0 else 0\n",
    "print(value)"
   ]
  },
  {
   "cell_type": "code",
   "execution_count": null,
   "metadata": {
    "slideshow": {
     "slide_type": "fragment"
    }
   },
   "outputs": [],
   "source": [
    "# 위의 코드와 동일한 코드입니다."
   ]
  },
  {
   "cell_type": "code",
   "execution_count": 2,
   "metadata": {
    "slideshow": {
     "slide_type": "subslide"
    }
   },
   "outputs": [
    {
     "name": "stdout",
     "output_type": "stream",
     "text": [
      "짝수입니다.\n"
     ]
    }
   ],
   "source": [
    "# 다음의 코드와 동일한 조건 표현식을 작성해보세요.\n",
    "num = 2\n",
    "if num % 2: # 0 = False, 1 = True로 생각하자.\n",
    "    result = '홀수입니다.'\n",
    "else:\n",
    "    result = '짝수입니다.'\n",
    "print(result)\n",
    "\n",
    "# num = 2\n",
    "# if num % 2 == 1:\n",
    "#     result = '홀수입니다.'\n",
    "# else:\n",
    "#     result = '짝수입니다.'\n",
    "# print(result)"
   ]
  },
  {
   "cell_type": "code",
   "execution_count": 4,
   "metadata": {},
   "outputs": [
    {
     "name": "stdout",
     "output_type": "stream",
     "text": [
      "짝수\n"
     ]
    }
   ],
   "source": [
    "# 여기에 코드를 작성하세요.\n",
    "num = 2\n",
    "result = \"홀수\" if num % 2 else \"짝수\"\n",
    "print(result)"
   ]
  },
  {
   "cell_type": "markdown",
   "metadata": {
    "slideshow": {
     "slide_type": "slide"
    }
   },
   "source": [
    "# 반복문\n",
    "\n",
    "## `while` 문\n",
    "\n",
    "`while`문은 조건식이 참(True)인 경우 반복적으로 코드를 실행합니다. \n",
    "<br>\n",
    "<br>\n",
    "<center> \n",
    "    <img src=\"./images/02/while.png\", alt=\"while\"/>\n",
    "</center>\n",
    "\n",
    "**while 문은 종료조건을 반드시 설정해주어야 합니다.**"
   ]
  },
  {
   "cell_type": "code",
   "execution_count": 6,
   "metadata": {
    "scrolled": true
   },
   "outputs": [
    {
     "name": "stdout",
     "output_type": "stream",
     "text": [
      "0\n",
      "1\n",
      "2\n",
      "3\n",
      "4\n",
      "끝\n"
     ]
    }
   ],
   "source": [
    "n = 0\n",
    "\n",
    "while n < 5:\n",
    "    print(n)\n",
    "    n += 1\n",
    "    \n",
    "print(\"끝\")"
   ]
  },
  {
   "cell_type": "markdown",
   "metadata": {
    "slideshow": {
     "slide_type": "subslide"
    }
   },
   "source": [
    "<center>\n",
    "    <img src=\"./images/02/while_style.png\", alt=\"\">\n",
    "</center>\n",
    "\n",
    "`while`문 역시 `<조건식>`이후에 `:`이 반드시 필요하며, \n",
    "\n",
    "이후 오는 코드 블록은 `4spaces`로 **들여쓰기**를 해주셔야 합니다."
   ]
  },
  {
   "cell_type": "markdown",
   "metadata": {
    "slideshow": {
     "slide_type": "slide"
    }
   },
   "source": [
    "## `for` 문\n",
    "\n",
    "`for`문은 정해진 범위 내(시퀀스)에서 순차적으로 코드를 실행합니다.\n",
    "\n",
    "<br>\n",
    "<center>\n",
    "    <img src=\"./images/02/loop-for.png\", alt=\"\">\n",
    "</center>"
   ]
  },
  {
   "cell_type": "code",
   "execution_count": 2,
   "metadata": {
    "scrolled": false,
    "slideshow": {
     "slide_type": "subslide"
    }
   },
   "outputs": [
    {
     "name": "stdout",
     "output_type": "stream",
     "text": [
      "0\n",
      "1\n",
      "2\n",
      "3\n",
      "4\n",
      "끝\n",
      "5\n"
     ]
    }
   ],
   "source": [
    "for i in range(0, 5):\n",
    "    print(i)\n",
    "    i += 1\n",
    "\n",
    "print(\"끝\")\n",
    "\n",
    "# for문에서의 변수가 전역변수로 잡힌다.\n",
    "# 주의하자!\n",
    "print(i)"
   ]
  },
  {
   "cell_type": "markdown",
   "metadata": {
    "slideshow": {
     "slide_type": "subslide"
    }
   },
   "source": [
    "<center>\n",
    "    <img src=\"./images/02/for_style.png\", alt=\"for_style\">\n",
    "</center>\n",
    "\n",
    "---\n",
    "```\n",
    "for variable in sequence:\n",
    "    code line1\n",
    "    code line2\n",
    "```\n",
    "\n",
    "`for`문은 `sequence`를 순차적으로 **variable**에 값을 바인딩하며, 코드 블록을 시행합니다."
   ]
  },
  {
   "cell_type": "markdown",
   "metadata": {
    "slideshow": {
     "slide_type": "subslide"
    }
   },
   "source": [
    "![for animation](./images/02/for.gif)"
   ]
  },
  {
   "cell_type": "markdown",
   "metadata": {
    "slideshow": {
     "slide_type": "subslide"
    }
   },
   "source": [
    "###  실습문제\n",
    "\n",
    "> 반복문과 조건문만 활용하여 1~30까지 숫자 중에 홀수만 담긴 리스트를 만드세요\n",
    "\n",
    "---\n",
    "```\n",
    "예시 출력)\n",
    "[1, 3, 5, 7, 9, 11, 13, 15, 17, 19, 21, 23, 25, 27, 29]\n",
    "```"
   ]
  },
  {
   "cell_type": "code",
   "execution_count": 3,
   "metadata": {
    "scrolled": false,
    "slideshow": {
     "slide_type": "subslide"
    }
   },
   "outputs": [
    {
     "name": "stdout",
     "output_type": "stream",
     "text": [
      "[1, 3, 5, 7, 9, 11, 13, 15, 17, 19, 21, 23, 25, 27, 29]\n"
     ]
    }
   ],
   "source": [
    "# 여기에 코드를 작성하세요.\n",
    "\n",
    "num_list = []\n",
    "\n",
    "for val in range(1, 31):\n",
    "    if val % 2:\n",
    "        num_list.append(val)\n",
    "        \n",
    "print(num_list)\n",
    "\n",
    "# range 객체를 이용할 수 있다."
   ]
  },
  {
   "cell_type": "code",
   "execution_count": 5,
   "metadata": {},
   "outputs": [
    {
     "name": "stdout",
     "output_type": "stream",
     "text": [
      "1050\n"
     ]
    }
   ],
   "source": [
    "fifth_sum = 0\n",
    "\n",
    "for num in range(1, 101):\n",
    "    if num % 5 == 0:\n",
    "        fifth_sum += num\n",
    "\n",
    "print(fifth_sum)"
   ]
  },
  {
   "cell_type": "markdown",
   "metadata": {},
   "source": [
    "### 실습문제\n",
    "> 정수 n이 들어오면, 1 ~ n 까지의 합을 출력하는 함수"
   ]
  },
  {
   "cell_type": "code",
   "execution_count": 2,
   "metadata": {
    "scrolled": true
   },
   "outputs": [
    {
     "name": "stdout",
     "output_type": "stream",
     "text": [
      "양의 정수를 입력하세요: 03\n"
     ]
    },
    {
     "data": {
      "text/plain": [
       "6"
      ]
     },
     "execution_count": 2,
     "metadata": {},
     "output_type": "execute_result"
    }
   ],
   "source": [
    "def sigma():\n",
    "    while True:\n",
    "        string = input(\"양의 정수를 입력하세요: \")\n",
    "        try:\n",
    "            number = int(string)\n",
    "            if number <= 0:\n",
    "                raise NotPositiveError\n",
    "            break\n",
    "        except ValueError:\n",
    "            print(\"정수가 아닙니다. 다시 입력하세요.\")\n",
    "        except NotPositiveError:\n",
    "            print(\"양수가 아닙니다. 다시 입력하세요.\")\n",
    "            \n",
    "    number_list = list(range(1, number + 1))\n",
    "    number_sum = 0\n",
    "    \n",
    "    for val in number_list:\n",
    "        number_sum += val\n",
    "    \n",
    "    return number_sum\n",
    "\n",
    "sigma()"
   ]
  },
  {
   "cell_type": "markdown",
   "metadata": {},
   "source": [
    "### 실습문제\n",
    "> 구구단 `for`와 `range`로 출력"
   ]
  },
  {
   "cell_type": "code",
   "execution_count": 5,
   "metadata": {
    "scrolled": true
   },
   "outputs": [
    {
     "name": "stdout",
     "output_type": "stream",
     "text": [
      "양의 정수를 입력하세요: 4\n",
      "4  8  12  16  20  24  28  32  36  "
     ]
    }
   ],
   "source": [
    "#1  2  3  4  5  6  7  8  9\n",
    "#2  4  6  8  10  12  14  16  18\n",
    "\n",
    "def times_table():\n",
    "    while True:\n",
    "        string = input(\"양의 정수를 입력하세요: \")\n",
    "        try:\n",
    "            number = int(string)\n",
    "            if number <= 0:\n",
    "                raise NotPositiveError\n",
    "            break\n",
    "        except ValueError:\n",
    "            print(\"정수가 아닙니다. 다시 입력하세요.\")\n",
    "        except NotPositiveError:\n",
    "            print(\"양수가 아닙니다. 다시 입력하세요.\")\n",
    "    \n",
    "    for val in range(1, 10):\n",
    "        print(number * val, end=\"  \")\n",
    "        \n",
    "times_table()"
   ]
  },
  {
   "cell_type": "markdown",
   "metadata": {},
   "source": [
    "### 실습문제\n",
    "> 입력으로 높이가 들어오며, 산모양으로 출력(함수이지만, print)"
   ]
  },
  {
   "cell_type": "code",
   "execution_count": 3,
   "metadata": {},
   "outputs": [
    {
     "name": "stdout",
     "output_type": "stream",
     "text": [
      "양의 정수를 입력하세요: 7\n",
      "      ☆\n",
      "      *\n",
      "     ***\n",
      "    *****\n",
      "   *******\n",
      "  *********\n",
      " ***********\n",
      "*************\n"
     ]
    }
   ],
   "source": [
    "def christmas_tree():\n",
    "    while True:\n",
    "        string = input(\"양의 정수를 입력하세요: \")\n",
    "        try:\n",
    "            number = int(string)\n",
    "            if number <= 0:\n",
    "                raise NotPositiveError\n",
    "            elif number > 70:\n",
    "                raise ValueError\n",
    "            break\n",
    "        except ValueError:\n",
    "            print(\"70 이하의 정수를 입력해주세요.\")\n",
    "        except NotPositiveError:\n",
    "            print(\"양수가 아닙니다. 다시 입력하세요.\")\n",
    "  \n",
    "            \n",
    "    star = \" \" * (number - 1) + \"☆\"\n",
    "    print(star)\n",
    "            \n",
    "    for val in range(number):        \n",
    "        tree = \" \" * (number - val - 1) + \"*\" * (val * 2 + 1)\n",
    "        print(tree)\n",
    "        \n",
    "christmas_tree()"
   ]
  },
  {
   "cell_type": "code",
   "execution_count": 2,
   "metadata": {
    "scrolled": true
   },
   "outputs": [
    {
     "name": "stdout",
     "output_type": "stream",
     "text": [
      "양의 정수를 입력하세요: 7\n",
      "      ☆\n",
      "      *\n",
      "     ***\n",
      "    *****\n",
      "   *******\n",
      "  *********\n",
      " ***********\n",
      "*************\n"
     ]
    }
   ],
   "source": [
    "# 이중 for문!\n",
    "def christmas_tree():\n",
    "    while True:\n",
    "        string = input(\"양의 정수를 입력하세요: \")\n",
    "        try:\n",
    "            number = int(string)\n",
    "            if number <= 0:\n",
    "                raise NotPositiveError\n",
    "            elif number > 70:\n",
    "                raise ValueError\n",
    "            break\n",
    "        except ValueError:\n",
    "            print(\"70 이하의 정수를 입력해주세요.\")\n",
    "        except NotPositiveError:\n",
    "            print(\"양수가 아닙니다. 다시 입력하세요.\")\n",
    "  \n",
    "            \n",
    "    star = \" \" * (number - 1) + \"☆\"\n",
    "    print(star)\n",
    "\n",
    "    for i in range(number):\n",
    "        for j in reversed(range(number)):\n",
    "            if i < j:\n",
    "                print(\" \", end=\"\")\n",
    "            else:\n",
    "                print(\"*\", end=\"\")\n",
    "        for j in range(number):\n",
    "            if i > j:\n",
    "                print(\"*\", end=\"\")\n",
    "         # \\n의 의미\n",
    "        print()\n",
    "    \n",
    "christmas_tree()"
   ]
  },
  {
   "cell_type": "code",
   "execution_count": 5,
   "metadata": {},
   "outputs": [
    {
     "name": "stdout",
     "output_type": "stream",
     "text": [
      "* * * * * * * * * * \n",
      "* * * * * * * * * * \n",
      "* * * * * * * * * * \n",
      "* * * * * * * * * * \n",
      "* * * * * * * * * * \n",
      "* * * * * * * * * * \n",
      "* * * * * * * * * * \n",
      "* * * * * * * * * * \n",
      "* * * * * * * * * * \n",
      "* * * * * * * * * * \n"
     ]
    }
   ],
   "source": [
    "# O(n^2)이므로 좋지 않다.\n",
    "n = 10\n",
    "\n",
    "for i in range(n):\n",
    "    for j in range(n):\n",
    "        print(\"*\", end=\" \")\n",
    "    print()"
   ]
  },
  {
   "cell_type": "markdown",
   "metadata": {
    "slideshow": {
     "slide_type": "slide"
    }
   },
   "source": [
    "### index와 함께 `for`문 활용하기\n",
    "\n",
    "`enumerate()`를 활용하면, 추가적인 변수를 활용할 수 있다."
   ]
  },
  {
   "cell_type": "code",
   "execution_count": 7,
   "metadata": {},
   "outputs": [
    {
     "name": "stdout",
     "output_type": "stream",
     "text": [
      "0 짜장면\n",
      "1 초밥\n"
     ]
    }
   ],
   "source": [
    "lunch_list = [\"짜장면\", \"초밥\"]\n",
    "\n",
    "for idx, val in enumerate(lunch_list):\n",
    "    print(idx, val)"
   ]
  },
  {
   "cell_type": "markdown",
   "metadata": {
    "slideshow": {
     "slide_type": "subslide"
    }
   },
   "source": [
    "* `enumerate()`는 [파이썬 표준 라이브러리의 내장함수](https://docs.python.org/ko/3.6/library/functions.html) 중 하나이며, 다음과 같이 구성되어 있다.\n",
    "\n",
    "<center>\n",
    "    <img src=\"./images/02/enumerate.png\", alt=\"enumerate\">\n",
    "</center>"
   ]
  },
  {
   "cell_type": "code",
   "execution_count": 8,
   "metadata": {},
   "outputs": [
    {
     "data": {
      "text/plain": [
       "[(0, 'Kim'), (1, 'Hong'), (2, 'Kang')]"
      ]
     },
     "execution_count": 8,
     "metadata": {},
     "output_type": "execute_result"
    }
   ],
   "source": [
    "last_name = [\"Kim\", \"Hong\", \"Kang\"]\n",
    "list(enumerate(last_name))"
   ]
  },
  {
   "cell_type": "code",
   "execution_count": 9,
   "metadata": {},
   "outputs": [
    {
     "data": {
      "text/plain": [
       "[(1, 'Kim'), (2, 'Hong'), (3, 'Kang')]"
      ]
     },
     "execution_count": 9,
     "metadata": {},
     "output_type": "execute_result"
    }
   ],
   "source": [
    "last_name = [\"Kim\", \"Hong\", \"Kang\"]\n",
    "list(enumerate(last_name, start=1))"
   ]
  },
  {
   "cell_type": "markdown",
   "metadata": {
    "slideshow": {
     "slide_type": "subslide"
    }
   },
   "source": [
    "### dictionary 반복문 활용하기\n",
    "\n",
    "기본적으로 dictionary를 `for`문을 시행시키면 다음과 같이 시행됩니다."
   ]
  },
  {
   "cell_type": "code",
   "execution_count": 11,
   "metadata": {},
   "outputs": [
    {
     "name": "stdout",
     "output_type": "stream",
     "text": [
      "teacher\n",
      "student1\n",
      "student2\n"
     ]
    }
   ],
   "source": [
    "classroom = { \"teacher\": \"Kim\", \"student1\": \"Hong\", \"student2\": \"Kang\" }\n",
    "\n",
    "for key in classroom:\n",
    "    print(key)"
   ]
  },
  {
   "cell_type": "markdown",
   "metadata": {
    "slideshow": {
     "slide_type": "subslide"
    }
   },
   "source": [
    "dictionary의 `key`를 출력함으로써 `value`에도 접근할 수 있기 때문입니다.\n",
    "\n",
    "따라서 dictionary의 value를 출력하기 위해서는 아래와 같이 작성합니다."
   ]
  },
  {
   "cell_type": "code",
   "execution_count": 12,
   "metadata": {},
   "outputs": [
    {
     "name": "stdout",
     "output_type": "stream",
     "text": [
      "Kim\n",
      "Hong\n",
      "Kang\n"
     ]
    }
   ],
   "source": [
    "classroom = { \"teacher\": \"Kim\", \"student1\": \"Hong\", \"student2\": \"Kang\" }\n",
    "\n",
    "for key in classroom:\n",
    "    print(classroom[key])"
   ]
  },
  {
   "cell_type": "markdown",
   "metadata": {
    "slideshow": {
     "slide_type": "subslide"
    }
   },
   "source": [
    "* dictionary에서 `for` 활용하는 4가지 방법\n",
    "\n",
    "```python\n",
    "# 0. dictionary (key 반복)\n",
    "for key in dict:\n",
    "    print(key)\n",
    "\n",
    "# 1. key 반복\n",
    "for key in dict.keys():\n",
    "    print(key)\n",
    "    \n",
    "# 2. value 반복    \n",
    "for val in dict.values():\n",
    "    print(val)\n",
    "\n",
    "# 3. key와 value 반복\n",
    "for key, val in dict.items():\n",
    "    print(key, val)\n",
    "\n",
    "```"
   ]
  },
  {
   "cell_type": "markdown",
   "metadata": {
    "slideshow": {
     "slide_type": "subslide"
    }
   },
   "source": [
    "### 실습문제 \n",
    "\n",
    "> 한번 직접 4가지 반복문을 활용해보고 출력되는 결과를 확인해보세요.\n",
    "\n",
    "```\n",
    "classroom = {\"teacher\": \"Kim\", \"student1\": \"Hong\", \"student2\": \"Kang\"}\n",
    "\n",
    "```"
   ]
  },
  {
   "cell_type": "code",
   "execution_count": 18,
   "metadata": {},
   "outputs": [
    {
     "name": "stdout",
     "output_type": "stream",
     "text": [
      "teacher\n",
      "student1\n",
      "student2\n",
      "teacher\n",
      "student1\n",
      "student2\n",
      "Kim\n",
      "Hong\n",
      "Kang\n",
      "teacher Kim\n",
      "student1 Hong\n",
      "student2 Kang\n"
     ]
    }
   ],
   "source": [
    "# 여기에 코드를 작성하세요.\n",
    "classroom = { \"teacher\": \"Kim\", \"student1\": \"Hong\", \"student2\": \"Kang\" }\n",
    "\n",
    "for key in classroom:\n",
    "    print(key)\n",
    "    \n",
    "for key in classroom.keys():\n",
    "    print(key)\n",
    "    \n",
    "for val in classroom.values():\n",
    "    print(val)\n",
    "    \n",
    "for key, val in classroom.items():\n",
    "    print(key, val)"
   ]
  },
  {
   "cell_type": "markdown",
   "metadata": {
    "slideshow": {
     "slide_type": "slide"
    }
   },
   "source": [
    "## `break`, `continue`, `else`\n",
    "\n",
    "### `break`\n",
    "\n",
    "`break`문은 반복문을 종료하는 표현입니다. "
   ]
  },
  {
   "cell_type": "code",
   "execution_count": 14,
   "metadata": {
    "scrolled": false
   },
   "outputs": [
    {
     "name": "stdout",
     "output_type": "stream",
     "text": [
      "0\n",
      "1\n",
      "2\n",
      "3\n",
      "4\n",
      "5\n"
     ]
    }
   ],
   "source": [
    "for i in range(10):\n",
    "    if i == 6:\n",
    "        break\n",
    "    print(i)"
   ]
  },
  {
   "cell_type": "markdown",
   "metadata": {
    "slideshow": {
     "slide_type": "subslide"
    }
   },
   "source": [
    "#### 실습문제\n",
    "\n",
    "> 조건문과 반복문, break를 통해서 아래의 코드와 동일한 코드를 작성하세요.\n",
    "> \n",
    "> (3이 있을 경우 True를 print하고, 아닐 경우 False를 print 합니다.)\n",
    "\n",
    "\n",
    "```python\n",
    "numbers = [1, 5, 10]\n",
    "print(3 in numbers)\n",
    "```\n",
    "\n",
    "---\n",
    "```\n",
    "예시 출력)\n",
    "False\n",
    "```"
   ]
  },
  {
   "cell_type": "code",
   "execution_count": 24,
   "metadata": {},
   "outputs": [
    {
     "name": "stdout",
     "output_type": "stream",
     "text": [
      "False\n"
     ]
    }
   ],
   "source": [
    "numbers = [1, 5, 10]\n",
    "# 여기에 코드를 작성하세요.\n",
    "\n",
    "for val in numbers:\n",
    "    if 3 in numbers:\n",
    "        break\n",
    "        \n",
    "print(3 in numbers)"
   ]
  },
  {
   "cell_type": "markdown",
   "metadata": {
    "slideshow": {
     "slide_type": "subslide"
    }
   },
   "source": [
    "### `continue` \n",
    "\n",
    "`continue`문은 continue 이후의 코드를 수행하지 않고 다음 요소를 선택해 반복을 계속 수행합니다."
   ]
  },
  {
   "cell_type": "code",
   "execution_count": 15,
   "metadata": {},
   "outputs": [
    {
     "name": "stdout",
     "output_type": "stream",
     "text": [
      "1는 홀수다.\n",
      "3는 홀수다.\n",
      "5는 홀수다.\n",
      "7는 홀수다.\n",
      "9는 홀수다.\n"
     ]
    }
   ],
   "source": [
    "for i in range(10):\n",
    "    if i % 2 == 0:\n",
    "        continue\n",
    "    print(f\"{i}는 홀수다.\")"
   ]
  },
  {
   "cell_type": "markdown",
   "metadata": {
    "slideshow": {
     "slide_type": "subslide"
    }
   },
   "source": [
    "### `else`\n",
    "\n",
    "`else`문은 끝까지 반복문을 시행한 이후에 실행됩니다.\n",
    "\n",
    "(`break`를 통해 중간에 종료되지 않은 경우만 실행)"
   ]
  },
  {
   "cell_type": "code",
   "execution_count": 19,
   "metadata": {},
   "outputs": [
    {
     "name": "stdout",
     "output_type": "stream",
     "text": [
      "break 시행안됨.\n"
     ]
    }
   ],
   "source": [
    "# for/break else문\n",
    "\n",
    "for i in range(3):\n",
    "    if i == 3:\n",
    "        print(f\"{i}에서 break 시행됨\")\n",
    "        break\n",
    "else:\n",
    "    print(\"break 시행안됨.\")"
   ]
  },
  {
   "cell_type": "code",
   "execution_count": 18,
   "metadata": {},
   "outputs": [
    {
     "name": "stdout",
     "output_type": "stream",
     "text": [
      "0에서 break 시행됨.\n"
     ]
    }
   ],
   "source": [
    "for i in range(3):\n",
    "    if i == 0:\n",
    "        print(f\"{i}에서 break 시행됨.\")\n",
    "        break\n",
    "else:\n",
    "    print(\"break 시행안됨.\")"
   ]
  },
  {
   "cell_type": "markdown",
   "metadata": {},
   "source": [
    "## Problem Set!"
   ]
  },
  {
   "cell_type": "markdown",
   "metadata": {},
   "source": [
    "> `colors = [\"red\", \"green\", \"blue\", \"white\", \"black\", \"gold\"]` 다음 리스트에서 0, 4, 5 index에 있는 요소들을 삭제한 새로운 리스트"
   ]
  },
  {
   "cell_type": "code",
   "execution_count": 6,
   "metadata": {},
   "outputs": [
    {
     "name": "stdout",
     "output_type": "stream",
     "text": [
      "['green', 'blue', 'white']\n"
     ]
    }
   ],
   "source": [
    "colors = [\"red\", \"green\", \"blue\", \"white\", \"black\", \"gold\"]\n",
    "\n",
    "colors.remove(\"red\")\n",
    "colors.remove(\"black\")\n",
    "colors.remove(\"gold\")\n",
    "\n",
    "print(colors)"
   ]
  },
  {
   "cell_type": "code",
   "execution_count": 13,
   "metadata": {
    "scrolled": true
   },
   "outputs": [
    {
     "name": "stdout",
     "output_type": "stream",
     "text": [
      "['green', 'blue', 'white']\n"
     ]
    }
   ],
   "source": [
    "colors = [\"red\", \"green\", \"blue\", \"white\", \"black\", \"gold\"]\n",
    "\n",
    "del colors[0]\n",
    "del colors[-1]\n",
    "del colors[-1]\n",
    "\n",
    "print(colors)"
   ]
  },
  {
   "cell_type": "code",
   "execution_count": null,
   "metadata": {},
   "outputs": [],
   "source": [
    "colors = [\"red\", \"green\", \"blue\", \"white\", \"black\", \"gold\"]\n",
    "\n",
    "index_remove = [0, 4, 5]\n",
    "\n",
    "for i in sorted(index_remove, reverse = True):\n",
    "    del colors[i]\n",
    "    \n",
    "print(colors)"
   ]
  },
  {
   "cell_type": "code",
   "execution_count": 25,
   "metadata": {},
   "outputs": [
    {
     "name": "stdout",
     "output_type": "stream",
     "text": [
      "['green', 'blue', 'white']\n"
     ]
    }
   ],
   "source": [
    "colors = [\"red\", \"green\", \"blue\", \"white\", \"black\", \"gold\"]\n",
    "\n",
    "delete_index = [0, 4, 5]\n",
    "remain_colors =[]\n",
    "\n",
    "for index, color in enumerate(colors):\n",
    "    if index not in delete_index:\n",
    "        remain_colors.append(color)\n",
    "        \n",
    "print(remain_colors)"
   ]
  },
  {
   "cell_type": "code",
   "execution_count": 27,
   "metadata": {},
   "outputs": [
    {
     "name": "stdout",
     "output_type": "stream",
     "text": [
      "['green', 'blue', 'white']\n"
     ]
    }
   ],
   "source": [
    "remain_colors = []\n",
    "\n",
    "for color in colors:\n",
    "    if colors.index(color) not in (0, 4, 5):\n",
    "        remain_colors.append(color)\n",
    "        \n",
    "print(remain_colors)"
   ]
  },
  {
   "cell_type": "markdown",
   "metadata": {},
   "source": [
    "달력 출력하기\n",
    "\n",
    "1월\n",
    "일 월 화 수 목 금 토\n",
    "1  2  3  4  5  6  7\n",
    "8  9  10 11 12 13 14\n",
    "15 16 17 18 19 20 21\n",
    "22 23 24 25 26 27 28\n",
    "29 30 31\n",
    "\n",
    "2월\n",
    "일 월 화 수 목 금 토\n",
    "         1  2  3  4\n",
    "5  6"
   ]
  },
  {
   "cell_type": "code",
   "execution_count": 1,
   "metadata": {},
   "outputs": [
    {
     "name": "stdout",
     "output_type": "stream",
     "text": [
      "1월\n",
      "일 월 화 수 목 금 토\n",
      " 1  2  3  4  5  6  7  \n",
      "\n",
      "8  9  10 11 12 13 14 \n",
      "\n",
      "15 16 17 18 19 20 21 \n",
      "\n",
      "22 23 24 25 26 27 28 \n",
      "\n",
      "29 30 31 \n",
      "\n",
      "2월\n",
      "일 월 화 수 목 금 토\n",
      "          1  2  3  4  \n",
      "\n",
      "5  6  7  8  9  10 11 \n",
      "\n",
      "12 13 14 15 16 17 18 \n",
      "\n",
      "19 20 21 22 23 24 25 \n",
      "\n",
      "26 27 28 \n",
      "\n",
      "3월\n",
      "일 월 화 수 목 금 토\n",
      "          1  2  3  4  \n",
      "\n",
      "5  6  7  8  9  10 11 \n",
      "\n",
      "12 13 14 15 16 17 18 \n",
      "\n",
      "19 20 21 22 23 24 25 \n",
      "\n",
      "26 27 28 29 30 \n",
      "\n",
      "4월\n",
      "일 월 화 수 목 금 토\n",
      "                1  2  \n",
      "\n",
      "3  4  5  6  7  8  9  \n",
      "\n",
      "10 11 12 13 14 15 16 \n",
      "\n",
      "17 18 19 20 21 22 23 \n",
      "\n",
      "24 25 26 27 28 29 30 \n",
      "\n",
      "31 \n",
      "\n",
      "5월\n",
      "일 월 화 수 목 금 토\n",
      "    1  2  3  4  5  6  \n",
      "\n",
      "7  8  9  10 11 12 13 \n",
      "\n",
      "14 15 16 17 18 19 20 \n",
      "\n",
      "21 22 23 24 25 26 27 \n",
      "\n",
      "28 29 30 \n",
      "\n",
      "6월\n",
      "일 월 화 수 목 금 토\n",
      "          1  2  3  4  \n",
      "\n",
      "5  6  7  8  9  10 11 \n",
      "\n",
      "12 13 14 15 16 17 18 \n",
      "\n",
      "19 20 21 22 23 24 25 \n",
      "\n",
      "26 27 28 29 30 31 \n",
      "\n",
      "7월\n",
      "일 월 화 수 목 금 토\n",
      "                   1  \n",
      "\n",
      "2  3  4  5  6  7  8  \n",
      "\n",
      "9  10 11 12 13 14 15 \n",
      "\n",
      "16 17 18 19 20 21 22 \n",
      "\n",
      "23 24 25 26 27 28 29 \n",
      "\n",
      "30 \n",
      "\n",
      "8월\n",
      "일 월 화 수 목 금 토\n",
      "    1  2  3  4  5  6  \n",
      "\n",
      "7  8  9  10 11 12 13 \n",
      "\n",
      "14 15 16 17 18 19 20 \n",
      "\n",
      "21 22 23 24 25 26 27 \n",
      "\n",
      "28 29 30 31 \n",
      "\n",
      "9월\n",
      "일 월 화 수 목 금 토\n",
      "             1  2  3  \n",
      "\n",
      "4  5  6  7  8  9  10 \n",
      "\n",
      "11 12 13 14 15 16 17 \n",
      "\n",
      "18 19 20 21 22 23 24 \n",
      "\n",
      "25 26 27 28 29 30 \n",
      "\n",
      "10월\n",
      "일 월 화 수 목 금 토\n",
      "                   1  \n",
      "\n",
      "2  3  4  5  6  7  8  \n",
      "\n",
      "9  10 11 12 13 14 15 \n",
      "\n",
      "16 17 18 19 20 21 22 \n",
      "\n",
      "23 24 25 26 27 28 29 \n",
      "\n",
      "30 31 \n",
      "\n",
      "11월\n",
      "일 월 화 수 목 금 토\n",
      "       1  2  3  4  5  \n",
      "\n",
      "6  7  8  9  10 11 12 \n",
      "\n",
      "13 14 15 16 17 18 19 \n",
      "\n",
      "20 21 22 23 24 25 26 \n",
      "\n",
      "27 28 29 30 \n",
      "\n",
      "12월\n",
      "일 월 화 수 목 금 토\n",
      "             1  2  3  \n",
      "\n",
      "4  5  6  7  8  9  10 \n",
      "\n",
      "11 12 13 14 15 16 17 \n",
      "\n",
      "18 19 20 21 22 23 24 \n",
      "\n",
      "25 26 27 28 29 30 31 \n",
      "\n"
     ]
    }
   ],
   "source": [
    "month_list = [31, 28, 30, 31, 30, 31, 30, 31, 30, 31, 30, 31]\n",
    "date = 0\n",
    "day = 0\n",
    "\n",
    "for month in range(1, 13):\n",
    "    print(f\"{month}월\")\n",
    "    print(\"일 월 화 수 목 금 토\")\n",
    "    print(\"   \" * day, end=\" \")\n",
    "    while date < month_list[month - 1]:\n",
    "        for day in range(day, 7):\n",
    "            date += 1\n",
    "            if date < 10:\n",
    "                print(date, end=\"  \")\n",
    "            elif date > month_list[month - 1]:\n",
    "                break\n",
    "            else:\n",
    "                print(date, end=\" \")\n",
    "            day = 0\n",
    "        print(\"\\n\")\n",
    "    date = 0\n",
    "    \n"
   ]
  }
 ],
 "metadata": {
  "celltoolbar": "Slideshow",
  "kernelspec": {
   "display_name": "Python 3",
   "language": "python",
   "name": "python3"
  },
  "language_info": {
   "codemirror_mode": {
    "name": "ipython",
    "version": 3
   },
   "file_extension": ".py",
   "mimetype": "text/x-python",
   "name": "python",
   "nbconvert_exporter": "python",
   "pygments_lexer": "ipython3",
   "version": "3.6.7"
  },
  "toc": {
   "base_numbering": 1,
   "nav_menu": {},
   "number_sections": true,
   "sideBar": true,
   "skip_h1_title": false,
   "title_cell": "Table of Contents",
   "title_sidebar": "Contents",
   "toc_cell": false,
   "toc_position": {},
   "toc_section_display": true,
   "toc_window_display": false
  }
 },
 "nbformat": 4,
 "nbformat_minor": 2
}
