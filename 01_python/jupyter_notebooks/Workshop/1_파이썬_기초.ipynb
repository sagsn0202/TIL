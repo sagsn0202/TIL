{
 "cells": [
  {
   "cell_type": "markdown",
   "metadata": {},
   "source": [
    "# Day 1"
   ]
  },
  {
   "cell_type": "markdown",
   "metadata": {},
   "source": [
    "## Workshop"
   ]
  },
  {
   "cell_type": "code",
   "execution_count": 5,
   "metadata": {
    "scrolled": true
   },
   "outputs": [
    {
     "name": "stdout",
     "output_type": "stream",
     "text": [
      "*****\n",
      "*****\n",
      "*****\n",
      "*****\n",
      "*****\n",
      "*****\n",
      "*****\n",
      "*****\n",
      "*****\n"
     ]
    }
   ],
   "source": [
    "# 1\n",
    "\n",
    "n = 5\n",
    "m = 9\n",
    "\n",
    "print((\"*\" * n + \"\\n\") * (m - 1) + \"*\" * n)"
   ]
  },
  {
   "cell_type": "code",
   "execution_count": 2,
   "metadata": {
    "scrolled": true
   },
   "outputs": [
    {
     "name": "stdout",
     "output_type": "stream",
     "text": [
      "87.75\n"
     ]
    }
   ],
   "source": [
    "# 2\n",
    "\n",
    "student = { \"python\" : 80, \"algorithm\" : 99, \"django\" : 89, \"flask\" : 83 }\n",
    "\n",
    "score_sum = 0\n",
    "\n",
    "for val in student.values():\n",
    "    score_sum += val\n",
    "\n",
    "print(score_sum / len(student))\n",
    "\n",
    "'''\n",
    "student = { \"python\" : 80, \"algorithm\" : 99, \"django\" : 89, \"flask\" : 83 }\n",
    "\n",
    "student_score = list(student_values())\n",
    "avg_score = sum(student_score) / len(student_score)\n",
    "\n",
    "print(avg_score)\n",
    "'''"
   ]
  },
  {
   "cell_type": "code",
   "execution_count": 6,
   "metadata": {},
   "outputs": [
    {
     "name": "stdout",
     "output_type": "stream",
     "text": [
      "{'A': 3, 'B': 3, 'AB': 3, 'O': 3}\n"
     ]
    }
   ],
   "source": [
    "# 3\n",
    "\n",
    "blood_types = [\"A\", \"B\", \"A\", \"O\", \"AB\", \"AB\", \"O\", \"A\", \"B\", \"O\", \"B\", \"AB\"]\n",
    "blood_types_dict = {}\n",
    "\n",
    "nonredup_blood_types = list(set(blood_types))\n",
    "\n",
    "for val in nonredup_blood_types:\n",
    "    blood_types_dict[val] = blood_types.count(val)\n",
    "    \n",
    "print(blood_types_dict)"
   ]
  }
 ],
 "metadata": {
  "kernelspec": {
   "display_name": "Python 3",
   "language": "python",
   "name": "python3"
  },
  "language_info": {
   "codemirror_mode": {
    "name": "ipython",
    "version": 3
   },
   "file_extension": ".py",
   "mimetype": "text/x-python",
   "name": "python",
   "nbconvert_exporter": "python",
   "pygments_lexer": "ipython3",
   "version": "3.6.7"
  }
 },
 "nbformat": 4,
 "nbformat_minor": 2
}
