{
 "cells": [
  {
   "cell_type": "markdown",
   "metadata": {},
   "source": [
    "# Problem Set"
   ]
  },
  {
   "cell_type": "markdown",
   "metadata": {},
   "source": [
    "### 1. 이상한 덧셈\n",
    "> 숫자로 구성된 리스트에서 양의 정수의 합을 구하는 함수, `positive_sum`을 만들어 보아요.\n",
    "\n",
    "예시)\n",
    "```python\n",
    "positive_sum([1, -10, 2]) #3\n",
    "positive_sum([-1, -2, -3, -4]) #0\n",
    "```"
   ]
  },
  {
   "cell_type": "code",
   "execution_count": 9,
   "metadata": {
    "scrolled": true
   },
   "outputs": [
    {
     "name": "stdout",
     "output_type": "stream",
     "text": [
      "3\n",
      "0\n"
     ]
    }
   ],
   "source": [
    "def positive_sum(numbers):\n",
    "    result = 0\n",
    "    for number in numbers:\n",
    "        result += number if number > 0 else 0\n",
    "    return result\n",
    "\n",
    "print(positive_sum([1, -10, 2]))\n",
    "print(positive_sum([-1, -2, -3, -4]))"
   ]
  },
  {
   "cell_type": "code",
   "execution_count": 10,
   "metadata": {},
   "outputs": [
    {
     "name": "stdout",
     "output_type": "stream",
     "text": [
      "3\n",
      "0\n"
     ]
    }
   ],
   "source": [
    "def positive_sum(numbers):\n",
    "    return sum(x for x in numbers if x > 0)\n",
    "\n",
    "print(positive_sum([1, -10, 2]))\n",
    "print(positive_sum([-1, -2, -3, -4]))"
   ]
  },
  {
   "cell_type": "markdown",
   "metadata": {},
   "source": [
    "### 2. 문자열 탐색\n",
    "예시\n",
    "```python\n",
    "start_end(['level', 'asdwe', 's', 'adadsfa', 'qlq']) #3\n",
    "```"
   ]
  },
  {
   "cell_type": "code",
   "execution_count": 12,
   "metadata": {
    "scrolled": true
   },
   "outputs": [
    {
     "name": "stdout",
     "output_type": "stream",
     "text": [
      "3\n"
     ]
    }
   ],
   "source": [
    "def start_end(words):\n",
    "    count = 0\n",
    "    for word in words:\n",
    "        count += 1 if len(word) >= 2 and word[0] == word[-1] else 0            \n",
    "    return count\n",
    "\n",
    "print(start_end(['level', 'asdwe', 's', 'adadsfa', 'qlq']))"
   ]
  },
  {
   "cell_type": "code",
   "execution_count": 24,
   "metadata": {},
   "outputs": [
    {
     "name": "stdout",
     "output_type": "stream",
     "text": [
      "3\n"
     ]
    }
   ],
   "source": [
    "def start_end(words):\n",
    "    return len([word for word in words if len(word) >= 2 and word[0] == word[-1]])\n",
    "\n",
    "print(start_end(['level', 'asdwe', 's', 'adadsfa', 'qlq']))"
   ]
  },
  {
   "cell_type": "markdown",
   "metadata": {},
   "source": [
    "### 3. Collatz\n",
    "> Colatz 추측 : 어떤 자연수 n 이던지, 다음과 같은 작업을 반복하면 1로 만들 수 있다.\n",
    "1. n이 짝수라면 2로 나눈다.\n",
    "2. n이 홀수하면 3을 곱하고 1을 더한다.\n",
    "3. 결과로 나온 수에 1/2의 작업을 1이 될 때까지 반복한다.\n",
    "예시)\n",
    "```python\n",
    "collatz(6) # 8\n",
    "collatz(16) # 4\n",
    "collatz(626331) # -1\n",
    "```"
   ]
  },
  {
   "cell_type": "code",
   "execution_count": 22,
   "metadata": {},
   "outputs": [
    {
     "name": "stdout",
     "output_type": "stream",
     "text": [
      "8\n",
      "4\n",
      "-1\n"
     ]
    }
   ],
   "source": [
    "def collatz(number, count=0):\n",
    "    if count == 500:\n",
    "        return -1\n",
    "    if number == 1:\n",
    "        return count\n",
    "    if number % 2:\n",
    "        return collatz(number * 3 + 1, count + 1)\n",
    "    else:\n",
    "        return collatz(number / 2, count + 1)\n",
    "    \n",
    "print(collatz(6))\n",
    "print(collatz(16))\n",
    "print(collatz(626331))"
   ]
  },
  {
   "cell_type": "markdown",
   "metadata": {},
   "source": [
    "### 4. 솔로천국\n",
    "> 리스트가 주어질 때, 리스트의 요소 `e`는 `range(0, 10)`에 포함되는 자연수이다. 리스트에서 연속적으로 나타나는 숫자는 하나만 남기고 전부 제거하여 `return`하는 함수 `lonely()`를 작성해보세요. 이때! 제거된 후 남은 수들을 반환할 때는 리스트의 요소들이 순서를 유지해야 합니다.\n",
    "\n",
    "예시)\n",
    "```python\n",
    "lonely([1, 1, 3, 3, 0, 1, 1, 3, 0, 3]) # [1, 3, 0]\n",
    "lonely([4, 4, 3, 3, 3, 4]) # [4, 3]\n",
    "```"
   ]
  },
  {
   "cell_type": "code",
   "execution_count": 27,
   "metadata": {
    "scrolled": true
   },
   "outputs": [
    {
     "name": "stdout",
     "output_type": "stream",
     "text": [
      "[1, 3, 0]\n",
      "[4, 3]\n"
     ]
    }
   ],
   "source": [
    "# Remember that Python variables are references, that is memory addresses of actual variables. \n",
    "# http://blog.thedigitalcatonline.com/blog/2015/02/11/default-arguments-in-python/\n",
    "def lonely(curr_list, next_list=None):\n",
    "    if next_list is None:\n",
    "        next_list = []\n",
    "    if not curr_list:\n",
    "        return next_list\n",
    "    for i in range(len(curr_list) - 1):\n",
    "        if curr_list[i] == curr_list[i + 1]:\n",
    "            next_list.append(curr_list[i])\n",
    "            curr_list = [x for x in curr_list if x != curr_list[i]]\n",
    "            return lonely(curr_list, next_list)\n",
    "\n",
    "print(lonely([1, 1, 3, 3, 0, 1, 1, 3, 0, 3]))\n",
    "print(lonely([4, 4, 3, 3, 3, 4]))"
   ]
  },
  {
   "cell_type": "markdown",
   "metadata": {},
   "source": [
    "### Python is a strongly object-oriented language, pushing this programming paradigm to its maximum. But object-oriented programming still relies on the function concept, that is something you can use to process data. Python has a more general concept of callable object, that is every object that can be called, which means applied on some data."
   ]
  },
  {
   "cell_type": "code",
   "execution_count": 28,
   "metadata": {
    "scrolled": true
   },
   "outputs": [
    {
     "name": "stdout",
     "output_type": "stream",
     "text": [
      "2019-01-08T15:11:06.227434: message 1\n",
      "2019-01-08T15:11:06.227434: message 2\n",
      "2019-01-08T15:11:06.227434: message 3\n"
     ]
    }
   ],
   "source": [
    "import datetime as dt\n",
    "\n",
    "def log_time(message, time=dt.datetime.now()):\n",
    "    print(\"{0}: {1}\".format(time.isoformat(), message))\n",
    "    \n",
    "log_time(\"message 1\")\n",
    "log_time(\"message 2\")\n",
    "log_time(\"message 3\")"
   ]
  },
  {
   "cell_type": "code",
   "execution_count": 32,
   "metadata": {},
   "outputs": [
    {
     "name": "stdout",
     "output_type": "stream",
     "text": [
      "2019-01-08T15:12:03.066195: message 1\n",
      "2019-01-08T15:12:03.066195: message 2\n",
      "2019-01-08T15:12:03.066195: message 3\n"
     ]
    }
   ],
   "source": [
    "import datetime as dt\n",
    "\n",
    "def log_time(message, time=None):\n",
    "    if time is None:\n",
    "        time=dt.datetime.now()\n",
    "    print(\"{0}: {1}\".format(time.isoformat(), message))\n",
    "    \n",
    "log_time(\"message 1\")\n",
    "log_time(\"message 2\")\n",
    "log_time(\"message 3\")"
   ]
  },
  {
   "cell_type": "code",
   "execution_count": 22,
   "metadata": {},
   "outputs": [
    {
     "name": "stdout",
     "output_type": "stream",
     "text": [
      "[1, 3, 0]\n",
      "[4, 3]\n"
     ]
    }
   ],
   "source": [
    "# List는 서수다!!!\n",
    "def lonely(numbers):\n",
    "    result =[]\n",
    "    for number in numbers:\n",
    "        if number not in result:\n",
    "            result.append(number)\n",
    "    return result\n",
    "\n",
    "print(lonely([1, 1, 3, 3, 0, 1, 1, 3, 0, 3]))\n",
    "print(lonely([4, 4, 3, 3, 3, 4]))"
   ]
  },
  {
   "cell_type": "markdown",
   "metadata": {},
   "source": [
    "### 5. *RGB 삼각형\n",
    "|BG|RG|BR|RR|GG|BB|\n",
    "|----|----|----|----|----|----|\n",
    "|R|B|G|R|G|B|\n",
    "> 입력으로 `'R', 'G', 'B'`가 섞여있는 문자열이 들어온다. 문자열은 다음과 같이 합쳐진다.\n",
    "```\n",
    "R R G B R G B B\n",
    " R B R G B R B\n",
    "  G G B R G G\n",
    "   G R G B G\n",
    "    B B R R\n",
    "     B G R\n",
    "      R B\n",
    "       G\n",
    "```\n",
    "예시)\n",
    "```python\n",
    "triangle('RRGBRGBB') # G\n",
    "triangle('GB') # R\n",
    "triangle('B') # B\n",
    "triangle('RGBG') # B\n",
    "```"
   ]
  },
  {
   "cell_type": "code",
   "execution_count": 2,
   "metadata": {
    "scrolled": true
   },
   "outputs": [
    {
     "name": "stdout",
     "output_type": "stream",
     "text": [
      "G\n",
      "R\n",
      "B\n",
      "B\n"
     ]
    }
   ],
   "source": [
    "def triangle(curr_words, next_words=''):\n",
    "    if len(curr_words) + len(next_words) == 1:\n",
    "        return curr_words\n",
    "    try:\n",
    "        if curr_words[0] == curr_words[1]:\n",
    "            if curr_words[0] == 'R':\n",
    "                return triangle(curr_words[1:], next_words + 'R')\n",
    "            elif curr_words[0] == 'G':\n",
    "                return triangle(curr_words[1:], next_words + 'G')\n",
    "            else:\n",
    "                return triangle(curr_words[1:], next_words + 'B')\n",
    "        else:\n",
    "            if set([curr_words[0], curr_words[1]]) == {'G', 'B'}:\n",
    "                return triangle(curr_words[1:], next_words + 'R')\n",
    "            elif set([curr_words[0], curr_words[1]]) == {'R', 'B'}:\n",
    "                return triangle(curr_words[1:], next_words + 'G')\n",
    "            else:\n",
    "                return triangle(curr_words[1:], next_words + 'B')\n",
    "    except IndexError:\n",
    "        return triangle(next_words, '')\n",
    "    \n",
    "print(triangle('RRGBRGBB'))\n",
    "print(triangle('GB'))\n",
    "print(triangle('B'))\n",
    "print(triangle('RGBG'))"
   ]
  },
  {
   "cell_type": "code",
   "execution_count": 3,
   "metadata": {},
   "outputs": [
    {
     "name": "stdout",
     "output_type": "stream",
     "text": [
      "G\n",
      "R\n",
      "B\n",
      "R\n"
     ]
    }
   ],
   "source": [
    "# Important of Dictionary\n",
    "def triangle(rgb):\n",
    "    rgb_dict = {\n",
    "        'BG': 'R',\n",
    "        'RG': 'B',\n",
    "        'BR': 'G',\n",
    "        'GB': 'R',\n",
    "        'RB': 'G',\n",
    "        'RR': 'R',\n",
    "        'GG': 'G',\n",
    "        'BB': 'B'\n",
    "    }\n",
    "    \n",
    "    if len(rgb) == 1:\n",
    "        return rgb\n",
    "    \n",
    "    return triangle(rgb_dict[rgb[0:2]]+rgb[2:])\n",
    "\n",
    "print(triangle('RRGBRGBB'))\n",
    "print(triangle('GB'))\n",
    "print(triangle('B'))\n",
    "print(triangle('RGBG'))"
   ]
  },
  {
   "cell_type": "markdown",
   "metadata": {},
   "source": [
    "### 6. 홀수개 찾기\n",
    "예시\n",
    "```python\n",
    "find_odd([1, 1, 2, 2, 3, 3, 3]) # 3\n",
    "find_odd([2, 1, 2]) # 1\n",
    "find_odd([1, 2, 2, 3, 2, 2, 1]) # 3\n",
    "```"
   ]
  },
  {
   "cell_type": "code",
   "execution_count": 11,
   "metadata": {
    "scrolled": false
   },
   "outputs": [
    {
     "name": "stdout",
     "output_type": "stream",
     "text": [
      "[3, 5]\n",
      "[1]\n",
      "[3]\n"
     ]
    }
   ],
   "source": [
    "def find_odd(find_odd_list):\n",
    "    return [x for x in set(find_odd_list) if find_odd_list.count(x) % 2]\n",
    "\n",
    "print(find_odd([1, 1, 2, 2, 3, 3, 3]))\n",
    "print(find_odd([2, 1, 2]))\n",
    "print(find_odd([1, 2, 2, 3, 2, 2, 1]))"
   ]
  },
  {
   "cell_type": "code",
   "execution_count": 15,
   "metadata": {},
   "outputs": [
    {
     "name": "stdout",
     "output_type": "stream",
     "text": [
      "3\n",
      "1\n",
      "3\n"
     ]
    }
   ],
   "source": [
    "from operator import xor\n",
    "from functools import reduce\n",
    "\n",
    "def find_odd(numbers):\n",
    "    return reduce(xor, numbers)\n",
    "\n",
    "print(find_odd([1, 1, 2, 2, 3, 3, 3]))\n",
    "print(find_odd([2, 1, 2]))\n",
    "print(find_odd([1, 2, 2, 3, 2, 2, 1]))"
   ]
  },
  {
   "cell_type": "code",
   "execution_count": 17,
   "metadata": {},
   "outputs": [
    {
     "name": "stdout",
     "output_type": "stream",
     "text": [
      "3\n",
      "1\n",
      "3\n"
     ]
    }
   ],
   "source": [
    "from operator import xor\n",
    "\n",
    "def find_odd(numbers):\n",
    "    result = 0\n",
    "    for number in numbers:\n",
    "        result ^= number\n",
    "    return result\n",
    "\n",
    "print(find_odd([1, 1, 2, 2, 3, 3, 3]))\n",
    "print(find_odd([2, 1, 2]))\n",
    "print(find_odd([1, 2, 2, 3, 2, 2, 1]))"
   ]
  }
 ],
 "metadata": {
  "kernelspec": {
   "display_name": "Python 3",
   "language": "python",
   "name": "python3"
  },
  "language_info": {
   "codemirror_mode": {
    "name": "ipython",
    "version": 3
   },
   "file_extension": ".py",
   "mimetype": "text/x-python",
   "name": "python",
   "nbconvert_exporter": "python",
   "pygments_lexer": "ipython3",
   "version": "3.6.7"
  }
 },
 "nbformat": 4,
 "nbformat_minor": 2
}
