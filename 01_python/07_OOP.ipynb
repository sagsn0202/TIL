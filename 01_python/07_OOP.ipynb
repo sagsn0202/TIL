{
 "cells": [
  {
   "cell_type": "code",
   "execution_count": 2,
   "metadata": {},
   "outputs": [],
   "source": [
    "from IPython.display import IFrame"
   ]
  },
  {
   "cell_type": "markdown",
   "metadata": {},
   "source": [
    "# OOP with Python\n",
    "\n",
    "## 용어 정리\n",
    "\n",
    "```python\n",
    "class Person:                      #=> 클래스 정의(선언) : 클래스 객체 생성\n",
    "    name = '홍길동'                  #=> 멤버 변수(데이터 어트리뷰트)\n",
    "    def greeting(self):            #=> 멤버 메서드(메서드)\n",
    "        print(f'{self.name}')\n",
    "```\n",
    "    \n",
    "    \n",
    "```python\n",
    "iu = Person()       # 인스턴스 객체 생성\n",
    "daniel = Person()   # 인스턴스 객체 생성\n",
    "iu.name             # 데이터 어트리뷰트 호출\n",
    "iu.greeting()       # 메서드 호출\n",
    "```"
   ]
  },
  {
   "cell_type": "code",
   "execution_count": 6,
   "metadata": {},
   "outputs": [
    {
     "name": "stdout",
     "output_type": "stream",
     "text": [
      "SSAFY Kim\n"
     ]
    }
   ],
   "source": [
    "# Person을 만들어봅시다.\n",
    "class Person:\n",
    "    name = 'SSAFY Kim'\n",
    "    def greeting(self):\n",
    "        return f'hi {self.name}'\n",
    "\n",
    "p = Person()\n",
    "    \n",
    "print(p.name)"
   ]
  },
  {
   "cell_type": "markdown",
   "metadata": {},
   "source": [
    "* 클래스와 인스턴스간의 관계를 확인해봅시다."
   ]
  },
  {
   "cell_type": "code",
   "execution_count": 7,
   "metadata": {},
   "outputs": [
    {
     "data": {
      "text/plain": [
       "True"
      ]
     },
     "execution_count": 7,
     "metadata": {},
     "output_type": "execute_result"
    }
   ],
   "source": [
    "isinstance(p, Person)"
   ]
  },
  {
   "cell_type": "markdown",
   "metadata": {},
   "source": [
    "##  `self` : 인스턴스 객체 자기자신\n",
    "\n",
    "* C++ 혹은 자바에서의 this 키워드와 동일함. \n",
    "\n",
    "* 특별한 상황을 제외하고는 무조건 메서드에서 `self`를 첫번째 인자로 설정한다.\n",
    "\n",
    "* 메서드는 인스턴스 객체가 함수의 첫번째 인자로 전달되도록 되어있다."
   ]
  },
  {
   "cell_type": "code",
   "execution_count": 8,
   "metadata": {},
   "outputs": [
    {
     "name": "stdout",
     "output_type": "stream",
     "text": [
      "hi IU\n"
     ]
    }
   ],
   "source": [
    "# iu를 다시 인사시켜봅시다.\n",
    "p.name = 'IU'\n",
    "print(p.greeting())"
   ]
  },
  {
   "cell_type": "code",
   "execution_count": 9,
   "metadata": {},
   "outputs": [
    {
     "data": {
      "text/plain": [
       "'hi IU'"
      ]
     },
     "execution_count": 9,
     "metadata": {},
     "output_type": "execute_result"
    }
   ],
   "source": [
    "# 다르게 인사를 시킬 수도 있습니다.\n",
    "Person.greeting(p)"
   ]
  },
  {
   "cell_type": "markdown",
   "metadata": {},
   "source": [
    "* 클래스 선언부 내부에서도 반드시 self를 통해 데이터 어트리뷰트에 접근 해야 합니다."
   ]
  },
  {
   "cell_type": "code",
   "execution_count": null,
   "metadata": {},
   "outputs": [],
   "source": [
    "# 예시를 봅시다."
   ]
  },
  {
   "cell_type": "code",
   "execution_count": 3,
   "metadata": {},
   "outputs": [],
   "source": [
    "name = '?'\n",
    "\n",
    "class Person:\n",
    "    name = '아이돌'\n",
    "    \n",
    "    def greeting(self):\n",
    "        return f''"
   ]
  },
  {
   "cell_type": "markdown",
   "metadata": {},
   "source": [
    "## 클래스-인스턴스간의 이름공간\n",
    "\n",
    "* 클래스를 정의하면, 클래스 객체가 생성되고 해당되는 이름 공간이 생성된다. \n",
    "\n",
    "* 인스턴스를 만들게 되면, 인스턴스 객체가 생성되고 해당되는 이름 공간이 생성된다. \n",
    "\n",
    "* 인스턴스의 어트리뷰트가 변경되면, 변경된 데이터를 인스턴스 객체 이름 공간에 저장한다.\n",
    "\n",
    "* 즉, 인스턴스에서 특정한 어트리뷰트에 접근하게 되면 인스턴스 -> 클래스 순으로 탐색을 한다."
   ]
  },
  {
   "cell_type": "code",
   "execution_count": null,
   "metadata": {},
   "outputs": [],
   "source": [
    "# iu에게 이름을 지정해줍시다."
   ]
  },
  {
   "cell_type": "code",
   "execution_count": 3,
   "metadata": {},
   "outputs": [
    {
     "data": {
      "text/html": [
       "\n",
       "        <iframe\n",
       "            width=\"100%\"\n",
       "            height=\"300px\"\n",
       "            src=\"https://goo.gl/ZgNaXB\"\n",
       "            frameborder=\"0\"\n",
       "            allowfullscreen\n",
       "        ></iframe>\n",
       "        "
      ],
      "text/plain": [
       "<IPython.lib.display.IFrame at 0x1880f6470f0>"
      ]
     },
     "execution_count": 3,
     "metadata": {},
     "output_type": "execute_result"
    }
   ],
   "source": [
    "# 아래의 Python Tutor를 통해 순차적으로 확인해봅시다.\n",
    "IFrame('https://goo.gl/ZgNaXB', width='100%', height='300px')"
   ]
  },
  {
   "cell_type": "markdown",
   "metadata": {},
   "source": [
    "## 생성자 / 소멸자\n",
    "\n",
    "* 생성자는 인스턴스 객체가 생성될 때 호출되는 함수이며, 소멸자는 객체가 소멸되는 과정에서 호출되는 함수입니다.\n",
    "\n",
    "```python\n",
    "def __init__(self):\n",
    "    print('생성될 때 자동으로 호출되는 메서드입니다.')\n",
    "    \n",
    "def __del__(self):\n",
    "    print('소멸될 때 자동으로 호출되는 메서드입니다.')\n",
    "```\n",
    "\n",
    "```\n",
    "__someting__\n",
    "```\n",
    "\n",
    "위의 형식처럼 양쪽에 언더스코어가 있는 메서드를 스페셜 메서드 혹은 매직 메서드라고 불립니다."
   ]
  },
  {
   "cell_type": "code",
   "execution_count": 11,
   "metadata": {},
   "outputs": [],
   "source": [
    "# 생성자와 소멸자를 만들어봅시다.\n",
    "class Person:\n",
    "    def __init__(self):\n",
    "        print('응애!')\n",
    "    def __del__(self):\n",
    "        print('안녕!')"
   ]
  },
  {
   "cell_type": "code",
   "execution_count": 12,
   "metadata": {},
   "outputs": [
    {
     "name": "stdout",
     "output_type": "stream",
     "text": [
      "응애!\n"
     ]
    }
   ],
   "source": [
    "#  생성시켜봅시다.\n",
    "p1 = Person()"
   ]
  },
  {
   "cell_type": "code",
   "execution_count": 13,
   "metadata": {
    "scrolled": true
   },
   "outputs": [
    {
     "name": "stdout",
     "output_type": "stream",
     "text": [
      "안녕!\n"
     ]
    }
   ],
   "source": [
    "# 소멸시켜봅시다.\n",
    "del p1"
   ]
  },
  {
   "cell_type": "code",
   "execution_count": 15,
   "metadata": {},
   "outputs": [
    {
     "name": "stdout",
     "output_type": "stream",
     "text": [
      "응애!\n",
      "응애!\n",
      "안녕!\n",
      "안녕!\n"
     ]
    }
   ],
   "source": [
    "class Person:\n",
    "    def __init__(self):\n",
    "        print('응애!')\n",
    "    def __del__(self):\n",
    "        print('안녕!')\n",
    "\n",
    "p1 = Person\n",
    "p2 = Person()\n",
    "p3 = p1()\n",
    "\n",
    "del p1\n",
    "del Person\n",
    "del p2\n",
    "del p3"
   ]
  },
  {
   "cell_type": "markdown",
   "metadata": {},
   "source": [
    "* 생성자 역시 메소드이기 때문에 추가적인 인자를 받을 수 있습니다."
   ]
  },
  {
   "cell_type": "code",
   "execution_count": 1,
   "metadata": {},
   "outputs": [],
   "source": [
    "# 생성자에서 이름을 추가적으로 받아서 출력해봅시다.\n",
    "class Person:\n",
    "    def __init__(self, name):\n",
    "        self.name = name\n",
    "        print(f'{name} 응애!')\n",
    "    def __del__(self):\n",
    "        print('안녕!')"
   ]
  },
  {
   "cell_type": "code",
   "execution_count": 2,
   "metadata": {},
   "outputs": [
    {
     "name": "stdout",
     "output_type": "stream",
     "text": [
      "hong 응애!\n",
      "hwang 응애!\n",
      "안녕!\n"
     ]
    }
   ],
   "source": [
    "# 홍길동이라는 이름을 가진 hong 을 만들어봅시다.\n",
    "p = Person('hong')\n",
    "p = Person('hwang')"
   ]
  },
  {
   "cell_type": "markdown",
   "metadata": {},
   "source": [
    "* 아래와 같이 모두 사용할 수 있습니다!\n",
    "\n",
    "```python\n",
    "def __init__(self, parameter1, parameter2):\n",
    "    print('생성될 때 자동으로 호출되는 메서드입니다.')\n",
    "    print(parameter1)\n",
    "\n",
    "def __init__(self, *args):\n",
    "    print('생성될 때 자동으로 호출되는 메서드입니다.')\n",
    "\n",
    "def __init__(self, **kwagrs):\n",
    "    print('생성될 때 자동으로 호출되는 메서드입니다.')\n",
    "```"
   ]
  },
  {
   "cell_type": "markdown",
   "metadata": {},
   "source": [
    "* 따라서, 생성자는 값을 초기화하는 과정에서 자주 활용됩니다. \n",
    "\n",
    "* 아래의 클래스 변수와 인스턴스 변수를 통해 확인해보겠습니다."
   ]
  },
  {
   "cell_type": "markdown",
   "metadata": {},
   "source": [
    "## 클래스 변수 / 인스턴스 변수\n",
    "\n",
    "```python\n",
    "class Person:\n",
    "    population = 0              # 클래스 변수 : 모든 인스턴스가 공유함.\n",
    "    \n",
    "    def __init__(self, name):   \n",
    "        self.name = name        # 인스턴스 변수 : 인스턴스별로 각각 가지는 변수\n",
    "```        "
   ]
  },
  {
   "cell_type": "code",
   "execution_count": 10,
   "metadata": {},
   "outputs": [
    {
     "name": "stdout",
     "output_type": "stream",
     "text": [
      "1\n",
      "0\n",
      "1\n",
      "0\n",
      "1\n",
      "2\n",
      "1\n",
      "2\n",
      "1\n",
      "2\n"
     ]
    }
   ],
   "source": [
    "class Person:\n",
    "    population = -1\n",
    "    \n",
    "    def __init__(self, name, population):   \n",
    "        self.name = name\n",
    "        population += 1\n",
    "        print(population)\n",
    "        Person.population +=1\n",
    "        print(Person.population)\n",
    "        self.population += 1\n",
    "        print(self.population)\n",
    "\n",
    "p1 = Person('John', 0)\n",
    "print(Person.population)\n",
    "print(p1.population)\n",
    "p2 = Person('Mary', 1)\n",
    "print(Person.population)\n",
    "print(p2.population)"
   ]
  },
  {
   "cell_type": "code",
   "execution_count": null,
   "metadata": {},
   "outputs": [],
   "source": [
    "# 위의 생성자와 인사하는 메소드를 만들어봅시다. "
   ]
  },
  {
   "cell_type": "code",
   "execution_count": null,
   "metadata": {},
   "outputs": [],
   "source": [
    "# 본인의 이름을 가진 인스턴스를 만들어봅시다."
   ]
  },
  {
   "cell_type": "code",
   "execution_count": null,
   "metadata": {},
   "outputs": [],
   "source": [
    "# 이름을 출력해봅시다."
   ]
  },
  {
   "cell_type": "code",
   "execution_count": null,
   "metadata": {},
   "outputs": [],
   "source": [
    "# 옆자리 친구의 이름을 가진 인스턴스를 만들어봅시다."
   ]
  },
  {
   "cell_type": "code",
   "execution_count": null,
   "metadata": {},
   "outputs": [],
   "source": [
    "# 이름을 출력해봅시다."
   ]
  },
  {
   "cell_type": "code",
   "execution_count": null,
   "metadata": {},
   "outputs": [],
   "source": [
    "# population을 출력해봅시다."
   ]
  },
  {
   "cell_type": "code",
   "execution_count": null,
   "metadata": {},
   "outputs": [],
   "source": [
    "# 물론, 인스턴스도 접근 가능합니다. 왜일까요?!"
   ]
  },
  {
   "cell_type": "code",
   "execution_count": 8,
   "metadata": {},
   "outputs": [
    {
     "name": "stdout",
     "output_type": "stream",
     "text": [
      "1\n"
     ]
    }
   ],
   "source": [
    "a = 1\n",
    "\n",
    "def func():\n",
    "    return a\n",
    "    \n",
    "print(func())"
   ]
  },
  {
   "cell_type": "code",
   "execution_count": 9,
   "metadata": {},
   "outputs": [
    {
     "ename": "UnboundLocalError",
     "evalue": "local variable 'a' referenced before assignment",
     "output_type": "error",
     "traceback": [
      "\u001b[1;31m---------------------------------------------------------------------------\u001b[0m",
      "\u001b[1;31mUnboundLocalError\u001b[0m                         Traceback (most recent call last)",
      "\u001b[1;32m<ipython-input-9-8bf1622f399a>\u001b[0m in \u001b[0;36m<module>\u001b[1;34m\u001b[0m\n\u001b[0;32m      5\u001b[0m     \u001b[1;32mreturn\u001b[0m \u001b[0ma\u001b[0m\u001b[1;33m\u001b[0m\u001b[1;33m\u001b[0m\u001b[0m\n\u001b[0;32m      6\u001b[0m \u001b[1;33m\u001b[0m\u001b[0m\n\u001b[1;32m----> 7\u001b[1;33m \u001b[0mprint\u001b[0m\u001b[1;33m(\u001b[0m\u001b[0mfunc\u001b[0m\u001b[1;33m(\u001b[0m\u001b[1;33m)\u001b[0m\u001b[1;33m)\u001b[0m\u001b[1;33m\u001b[0m\u001b[1;33m\u001b[0m\u001b[0m\n\u001b[0m",
      "\u001b[1;32m<ipython-input-9-8bf1622f399a>\u001b[0m in \u001b[0;36mfunc\u001b[1;34m()\u001b[0m\n\u001b[0;32m      2\u001b[0m \u001b[1;33m\u001b[0m\u001b[0m\n\u001b[0;32m      3\u001b[0m \u001b[1;32mdef\u001b[0m \u001b[0mfunc\u001b[0m\u001b[1;33m(\u001b[0m\u001b[1;33m)\u001b[0m\u001b[1;33m:\u001b[0m\u001b[1;33m\u001b[0m\u001b[1;33m\u001b[0m\u001b[0m\n\u001b[1;32m----> 4\u001b[1;33m     \u001b[0ma\u001b[0m \u001b[1;33m+=\u001b[0m \u001b[1;36m1\u001b[0m\u001b[1;33m\u001b[0m\u001b[1;33m\u001b[0m\u001b[0m\n\u001b[0m\u001b[0;32m      5\u001b[0m     \u001b[1;32mreturn\u001b[0m \u001b[0ma\u001b[0m\u001b[1;33m\u001b[0m\u001b[1;33m\u001b[0m\u001b[0m\n\u001b[0;32m      6\u001b[0m \u001b[1;33m\u001b[0m\u001b[0m\n",
      "\u001b[1;31mUnboundLocalError\u001b[0m: local variable 'a' referenced before assignment"
     ]
    }
   ],
   "source": [
    "a = 1\n",
    "\n",
    "def func():\n",
    "    a += 1\n",
    "    return a\n",
    "    \n",
    "print(func())"
   ]
  },
  {
   "cell_type": "markdown",
   "metadata": {},
   "source": [
    "## 정적 메서드 / 클래스 메서드\n",
    "\n",
    "* 메서드 호출을 인스턴스가 아닌 클래스가 할 수 있도록 구성할 수 있습니다. \n",
    "\n",
    "* 이때 활용되는게 정적 메서드 혹은 클래스 메서드입니다.\n",
    "\n",
    "* 정적 메소드는 객체가 전달되지 않은 형태이며, 클래스 메서드는 인자로 클래스를 넘겨준다."
   ]
  },
  {
   "cell_type": "code",
   "execution_count": 24,
   "metadata": {
    "scrolled": true
   },
   "outputs": [
    {
     "name": "stdout",
     "output_type": "stream",
     "text": [
      "Hi! I am SSAFY\n",
      "오늘의 인구는 1\n"
     ]
    }
   ],
   "source": [
    "# Person 클래스가 인사할 수 있는지 확인해보겠습니다.\n",
    "class Person:\n",
    "    population = 0\n",
    "    def __init__(self, name):\n",
    "        self.name = name\n",
    "        Person.population += 1\n",
    "    def greeting(self):\n",
    "        print(f'Hi! I am {self.name}')\n",
    "    def show_population():\n",
    "        print(f'오늘의 인구는 {Person.population}')\n",
    "        \n",
    "p = Person('SSAFY')\n",
    "p.greeting()\n",
    "\n",
    "Person.show_population()"
   ]
  },
  {
   "cell_type": "code",
   "execution_count": 4,
   "metadata": {},
   "outputs": [],
   "source": [
    "# 이번에는 Dog class를 만들어보겠습니다.\n",
    "# 클래스 변수 num_of_dogs 통해 개가 생성될 때마다 증가시키도록 하겠습니다. \n",
    "# 개들은 각자의 이름과 나이를 가지고 있습니다. \n",
    "# 그리고 bark() 메서드를 통해 짖을 수 있습니다.\n",
    "class Dog:\n",
    "    num_of_dogs = 0\n",
    "    \n",
    "    def __init__(self, name, breed):\n",
    "        self.name = name\n",
    "        self.breed = breed\n",
    "        Dog.num_of_dogs += 1\n",
    "        \n",
    "    def __del__(self):\n",
    "        Dog.num_of_dogs -= 1\n",
    "        \n",
    "    def bark(self):\n",
    "        return '왈왈!'\n",
    "    \n",
    "    @classmethod\n",
    "    def info(*args):\n",
    "        return f'총 {args[0].num_of_dogs}마리의 개가 있습니다.'"
   ]
  },
  {
   "cell_type": "code",
   "execution_count": null,
   "metadata": {},
   "outputs": [],
   "source": [
    "# 각각 이름과 나이가 다른 인스턴스를 3개 만들어봅시다.\n",
    "d1 = Dog('초코', '푸들')\n",
    "d2 = Dog('꽁이', '말티즈')\n",
    "d3 = Dog('별이', '시츄')\n",
    "\n",
    "Dog.info()"
   ]
  },
  {
   "cell_type": "code",
   "execution_count": null,
   "metadata": {},
   "outputs": [],
   "source": [
    "class Dog:\n",
    "    num_of_dogs = 0\n",
    "    \n",
    "    def __init__(self, name, breed):\n",
    "        self.name = name\n",
    "        self.breed = breed\n",
    "        Dog.num_of_dogs += 1\n",
    "        \n",
    "    def __del__(self):\n",
    "        Dog.num_of_dogs -= 1\n",
    "        \n",
    "    def bark(self):\n",
    "        return '왈왈!'\n",
    "    \n",
    "    @classmethod\n",
    "    def info(cls):\n",
    "        return f'총 {cls.num_of_dogs}마리의 개가 있습니다.'"
   ]
  },
  {
   "cell_type": "code",
   "execution_count": null,
   "metadata": {},
   "outputs": [],
   "source": [
    "# 각각 이름과 나이가 다른 인스턴스를 3개 만들어봅시다.\n",
    "d1 = Dog('초코', '푸들')\n",
    "d2 = Dog('꽁이', '말티즈')\n",
    "d3 = Dog('별이', '시츄')\n",
    "\n",
    "Dog.info()"
   ]
  },
  {
   "cell_type": "code",
   "execution_count": 1,
   "metadata": {},
   "outputs": [],
   "source": [
    "class Dog:\n",
    "    num_of_dogs = 0\n",
    "    \n",
    "    def __init__(self, name, breed):\n",
    "        self.name = name\n",
    "        self.breed = breed\n",
    "        Dog.num_of_dogs += 1\n",
    "        \n",
    "    def __del__(self):\n",
    "        Dog.num_of_dogs -= 1\n",
    "        \n",
    "    def bark(self):\n",
    "        return '왈왈!'\n",
    "    \n",
    "    @classmethod\n",
    "    def info(cls, *args):\n",
    "        return f'총 {args[0].num_of_dogs}마리의 개가 있습니다.'"
   ]
  },
  {
   "cell_type": "code",
   "execution_count": 2,
   "metadata": {},
   "outputs": [],
   "source": [
    "# 각각 이름과 나이가 다른 인스턴스를 3개 만들어봅시다.\n",
    "d1 = Dog('초코', '푸들')\n",
    "d2 = Dog('꽁이', '말티즈')\n",
    "d3 = Dog('별이', '시츄')\n",
    "\n",
    "Dog.info()"
   ]
  },
  {
   "cell_type": "markdown",
   "metadata": {},
   "source": [
    "* staticmethod는 다음과 같이 정의됩니다.\n",
    "\n",
    "```python\n",
    "\n",
    "@staticmethod\n",
    "def methodname():\n",
    "    codeblock\n",
    "```"
   ]
  },
  {
   "cell_type": "code",
   "execution_count": null,
   "metadata": {},
   "outputs": [],
   "source": [
    "class Person(object):\n",
    "    \n",
    "    my_class_var = 'HES'\n",
    "    \n",
    "    def __init__(self, year, month, day, sex):\n",
    "        self.year = year\n",
    "        self.month = month\n",
    "        self.day = day\n",
    "        self.sex = sex\n",
    "\n",
    "    @staticmethod\n",
    "    def is_work_day(day):\n",
    "        # weekday() 함수의 리턴값은\n",
    "        # 월: 0, 화: 1, 수: 2, 목: 3, 금: 4, 토: 5, 일: 6\n",
    "        if day.weekday() == 5 or day.weekday() == 6:\n",
    "            return False\n",
    "        return True\n",
    "    \n",
    "import datetime\n",
    "# 일요일 날짜 오브젝트 생성\n",
    "my_date = datetime.date(2016, 10, 9)\n",
    "\n",
    "# 클래스를 통하여 스태틱 메소드 호출\n",
    "print(Person.is_work_day(my_date))\n",
    "# 인스턴스를 통하여 스태틱 메소드 호출\n",
    "print(person_1.is_work_day(my_date))"
   ]
  },
  {
   "cell_type": "code",
   "execution_count": null,
   "metadata": {},
   "outputs": [],
   "source": [
    "# 단순한 static method를 만들어보겠습니다."
   ]
  },
  {
   "cell_type": "code",
   "execution_count": null,
   "metadata": {},
   "outputs": [],
   "source": [
    "# 3마리를 만들어보고,"
   ]
  },
  {
   "cell_type": "code",
   "execution_count": null,
   "metadata": {},
   "outputs": [],
   "source": [
    "# 함수를 호출해봅시다."
   ]
  },
  {
   "cell_type": "markdown",
   "metadata": {},
   "source": [
    "* classmethod는 다음과 같이 정의됩니다.\n",
    "\n",
    "```python\n",
    "\n",
    "@classmethod\n",
    "def methodname(cls):\n",
    "    codeblock\n",
    "```"
   ]
  },
  {
   "cell_type": "code",
   "execution_count": null,
   "metadata": {},
   "outputs": [],
   "source": [
    "# 개의 숫자를 출력하는 classmethod를 만들어보겠습니다."
   ]
  },
  {
   "cell_type": "code",
   "execution_count": null,
   "metadata": {},
   "outputs": [],
   "source": [
    "# 3마리를 만들어보고,"
   ]
  },
  {
   "cell_type": "code",
   "execution_count": null,
   "metadata": {
    "scrolled": true
   },
   "outputs": [],
   "source": [
    "# 함수를 호출해봅시다."
   ]
  },
  {
   "cell_type": "code",
   "execution_count": 5,
   "metadata": {},
   "outputs": [
    {
     "name": "stdout",
     "output_type": "stream",
     "text": [
      "Hi\n",
      "Bye\n"
     ]
    }
   ],
   "source": [
    "def outer_function(msg):\n",
    "    def inner_function():\n",
    "        print(msg)\n",
    "    return inner_function\n",
    "\n",
    "hi_func = outer_function('Hi')\n",
    "bye_func = outer_function('Bye')\n",
    "\n",
    "hi_func()\n",
    "bye_func()"
   ]
  },
  {
   "cell_type": "markdown",
   "metadata": {},
   "source": [
    "## 실습문제 - 정적 메소드\n",
    "\n",
    "> 계산기 class인 `Calculator`를 만들어봅시다.\n",
    "\n",
    "* 정적 메소드 : 두 수를 받아서 각각의 연산을 한 결과를 반환(return)\n",
    "\n",
    "    1. `add()` : 덧셈\n",
    "    \n",
    "    2. `sub()` : 뺄셈 \n",
    "    \n",
    "    3. `mul()` : 곱셈\n",
    "    \n",
    "    4. `div()` : 나눗셈\n"
   ]
  },
  {
   "cell_type": "code",
   "execution_count": 10,
   "metadata": {},
   "outputs": [],
   "source": [
    "# 아래에 코드를 작성해주세요.\n",
    "class Calculator:\n",
    "    @staticmethod\n",
    "    def add(num_1, num_2):\n",
    "        return num_1 + num_2\n",
    "    \n",
    "    @staticmethod\n",
    "    def sub(num_1, num_2):\n",
    "        return num_1 - num_2\n",
    "    \n",
    "    @staticmethod\n",
    "    def mul(num_1, num_2):\n",
    "        return num_1 * num_2\n",
    "    \n",
    "    @staticmethod\n",
    "    def div(num_1, num_2):\n",
    "        return num_1 / num_2"
   ]
  },
  {
   "cell_type": "code",
   "execution_count": 11,
   "metadata": {},
   "outputs": [
    {
     "name": "stdout",
     "output_type": "stream",
     "text": [
      "3\n",
      "-1\n",
      "2\n",
      "0.5\n"
     ]
    }
   ],
   "source": [
    "# 정적메소드를 호출해보세요.\n",
    "print(Calculator.add(1, 2))\n",
    "print(Calculator.sub(1, 2))\n",
    "print(Calculator.mul(1, 2))\n",
    "print(Calculator.div(1, 2))"
   ]
  },
  {
   "cell_type": "markdown",
   "metadata": {},
   "source": [
    "## 실습문제 - 종합1\n",
    "\n",
    "> 사실 이전에 작성한 Mylist는 완벽하지 않았습니다. \n",
    ">\n",
    "> 한번 제대로 된 자료구조를 만들어보겠습니다. \n",
    ">\n",
    "> `Stack` 클래스를 간략하게 구현해봅시다.\n",
    "\n",
    "> [Stack](https://ko.wikipedia.org/wiki/%EC%8A%A4%ED%83%9D) : 스택은 LIFO(Last in First Out)으로 구조화된 자료구조를 뜻합니다.\n",
    "\n",
    "1. `empty()`: 스택이 비었다면 참을 주고,그렇지 않다면 거짓이 된다.\n",
    "\n",
    "2. `top()`: 스택의 가장 마지막 데이터를 넘겨준다. 스택이 비었다면 None을 리턴해주세요.\n",
    "\n",
    "3. `pop()`: 스택의 가장 마지막 데이터의 값을 넘겨주고 해당 데이터를 삭제한다. 스택이 비었다면 None을 리턴해주세요.\n",
    "\n",
    "4. `push()`: 스택의 가장 마지막 데이터 뒤에 값을 추가한다. 리턴값 없음\n",
    "\n",
    "**다 완료하신 분들은 __repr__을 통해 예쁘게 출력까지 해봅시다.**"
   ]
  },
  {
   "cell_type": "code",
   "execution_count": 11,
   "metadata": {},
   "outputs": [],
   "source": [
    "# 여기에 코드를 작성해주세요.\n",
    "class Stack:        \n",
    "    def __init__(self):\n",
    "        self.items = []\n",
    "        \n",
    "    # print 없이\n",
    "    def __repr__(self):\n",
    "        return '\\n'.join(self.items)\n",
    "    \n",
    "    # print 있이\n",
    "    def __str__(self):\n",
    "        return '|'.join(self.items)\n",
    "            \n",
    "    def show(self):\n",
    "        return self.items\n",
    "    \n",
    "    def empty(self):\n",
    "        return not bool(self.items)\n",
    "        \n",
    "    def top(self):\n",
    "        if self.items:\n",
    "            return self.items[-1]\n",
    "        else:\n",
    "            return None\n",
    "        \n",
    "    def pop(self):\n",
    "        if self.items:\n",
    "            popped_item = self.items[-1]\n",
    "            self.items = self.items[:-1]\n",
    "            return popped_item\n",
    "        else:\n",
    "            return None\n",
    "        \n",
    "    def push(self, item):\n",
    "        self.items.append(item)"
   ]
  },
  {
   "cell_type": "code",
   "execution_count": 12,
   "metadata": {},
   "outputs": [
    {
     "name": "stdout",
     "output_type": "stream",
     "text": [
      "True\n",
      "None\n",
      "None\n",
      "None\n",
      "None\n",
      "None\n",
      "['a', 'b', 'c']\n",
      "a|b|c\n"
     ]
    },
    {
     "data": {
      "text/plain": [
       "a\n",
       "b\n",
       "c"
      ]
     },
     "execution_count": 12,
     "metadata": {},
     "output_type": "execute_result"
    }
   ],
   "source": [
    "# 인스턴스를 하나 만들고 메소드 조작을 해봅시다.\n",
    "s1 = Stack()\n",
    "print(s1.empty())\n",
    "print(s1.top())\n",
    "print(s1.pop())\n",
    "print(s1.push('a'))\n",
    "print(s1.push('b'))\n",
    "print(s1.push('c'))\n",
    "print(s1.show())\n",
    "print(s1)\n",
    "s1"
   ]
  },
  {
   "cell_type": "markdown",
   "metadata": {},
   "source": [
    "## 연산자 오버라이딩(중복 정의)\n",
    "\n",
    "* 파이썬에 기본적으로 정의된 연산자를 직접적으로 정의하여 활용할 수 있습니다. \n",
    "\n",
    "* 몇가지만 소개하고 활용해봅시다.\n",
    "\n",
    "```\n",
    "+  __add__   \n",
    "-  __sub__\n",
    "*  __mul__\n",
    "<  __lt__\n",
    "<= __le__\n",
    "== __eq__\n",
    "!= __ne__\n",
    ">= __ge__\n",
    ">  __gt__\n",
    "```"
   ]
  },
  {
   "cell_type": "code",
   "execution_count": 33,
   "metadata": {},
   "outputs": [],
   "source": [
    "# 사람과 사람을 같은지 비교하면, 이는 나이가 같은지 비교한 결과를 반환하도록 만들어봅시다.\n",
    "class Person:\n",
    "    population = 0\n",
    "    \n",
    "    def __init__(self, name, age):\n",
    "        self.name = name\n",
    "        self.age = age\n",
    "        Person.population += 1\n",
    "        \n",
    "    def __repr__(self):\n",
    "        return f'\"name\": {self.name}, \"age\": {self.age}'\n",
    "    \n",
    "    def __gt__(self, other):\n",
    "        if self.age > other.age:\n",
    "            return '왼쪽이 연장자'\n",
    "        else:\n",
    "            return '오른쪽이 연장자'\n",
    "        \n",
    "    def __add__(self, other):\n",
    "        if isinstance(other, int):\n",
    "            return self.age\n",
    "        \n",
    "    def greeting(self):\n",
    "        print(f'{self.name}입니다. 반갑습니다!')"
   ]
  },
  {
   "cell_type": "code",
   "execution_count": 27,
   "metadata": {},
   "outputs": [
    {
     "data": {
      "text/plain": [
       "\"name\": 황은석, \"age\": 30"
      ]
     },
     "execution_count": 27,
     "metadata": {},
     "output_type": "execute_result"
    }
   ],
   "source": [
    "# 연산자를 호출해봅시다.\n",
    "p1 = Person('황은석', 30)\n",
    "p1"
   ]
  },
  {
   "cell_type": "code",
   "execution_count": 28,
   "metadata": {},
   "outputs": [
    {
     "data": {
      "text/plain": [
       "'왼쪽이 연장자'"
      ]
     },
     "execution_count": 28,
     "metadata": {},
     "output_type": "execute_result"
    }
   ],
   "source": [
    "# 원하는 연산자를 사람과 사람을 비교해보세요.\n",
    "p1 = Person('황은석', 30)\n",
    "p2 = Person('손흥민', 28)\n",
    "p1 > p2"
   ]
  },
  {
   "cell_type": "code",
   "execution_count": 29,
   "metadata": {},
   "outputs": [
    {
     "data": {
      "text/plain": [
       "3"
      ]
     },
     "execution_count": 29,
     "metadata": {},
     "output_type": "execute_result"
    }
   ],
   "source": [
    "# 파이썬 내부를 살펴봅시다.\n",
    "1 + 2\n",
    "(1).__add__(2)"
   ]
  },
  {
   "cell_type": "code",
   "execution_count": 34,
   "metadata": {},
   "outputs": [
    {
     "ename": "TypeError",
     "evalue": "unsupported operand type(s) for +: 'Person' and 'int'",
     "output_type": "error",
     "traceback": [
      "\u001b[1;31m---------------------------------------------------------------------------\u001b[0m",
      "\u001b[1;31mTypeError\u001b[0m                                 Traceback (most recent call last)",
      "\u001b[1;32m<ipython-input-34-4d3b04d5f9d4>\u001b[0m in \u001b[0;36m<module>\u001b[1;34m\u001b[0m\n\u001b[1;32m----> 1\u001b[1;33m \u001b[0mp1\u001b[0m \u001b[1;33m+\u001b[0m \u001b[1;36m1\u001b[0m\u001b[1;33m\u001b[0m\u001b[1;33m\u001b[0m\u001b[0m\n\u001b[0m",
      "\u001b[1;31mTypeError\u001b[0m: unsupported operand type(s) for +: 'Person' and 'int'"
     ]
    }
   ],
   "source": [
    "p1 + 1"
   ]
  },
  {
   "cell_type": "markdown",
   "metadata": {},
   "source": [
    "# 상속 \n",
    "\n",
    "## 기초\n",
    "\n",
    "* 클래스에서 가장 큰 특징은 '상속' 기능을 가지고 있다는 것이다. \n",
    "\n",
    "* 부모 클래스의 모든 속성이 자식 클래스에게 상속 되므로 코드재사용성이 높아집니다.\n",
    "\n",
    "```python\n",
    "class DerivedClassName(BaseClassName):\n",
    "    code block\n",
    "```"
   ]
  },
  {
   "cell_type": "code",
   "execution_count": 5,
   "metadata": {},
   "outputs": [
    {
     "name": "stdout",
     "output_type": "stream",
     "text": [
      "반갑습니다. 은석입니다.\n"
     ]
    }
   ],
   "source": [
    "# 인사만 할 수 있는 간단한 사람 클래스를 만들어봅시다.\n",
    "class Person:\n",
    "    population = 0\n",
    "    \n",
    "    def __init__(self, name=None):\n",
    "        if not name:\n",
    "            self.name = '사람'\n",
    "        self.name = name\n",
    "        Person.population += 1\n",
    "    \n",
    "    def greeting(self):\n",
    "        print(f'반갑습니다. {self.name}입니다.')\n",
    "        \n",
    "p = Person('은석')\n",
    "p.greeting()"
   ]
  },
  {
   "cell_type": "code",
   "execution_count": 6,
   "metadata": {},
   "outputs": [
    {
     "name": "stdout",
     "output_type": "stream",
     "text": [
      "반갑습니다. 08입니다.\n"
     ]
    },
    {
     "data": {
      "text/plain": [
       "2"
      ]
     },
     "execution_count": 6,
     "metadata": {},
     "output_type": "execute_result"
    }
   ],
   "source": [
    "# 사람 클래스를 상속받아 학생 클래스를 만들어봅시다.\n",
    "class Student(Person):\n",
    "    pass\n",
    "#     def __init__(self, student_id, name='학생'):\n",
    "#         self.name = name\n",
    "#         self.student_id = student_id\n",
    "        \n",
    "#     def greeting(self):\n",
    "#         print(f'반갑습니다. {self.student_id} 학번 학생 {self.name}입니다.')"
   ]
  },
  {
   "cell_type": "code",
   "execution_count": null,
   "metadata": {},
   "outputs": [],
   "source": [
    "# 학생을 만들어봅시다.\n",
    "s = Student('08')\n",
    "s.greeting()\n",
    "s.population"
   ]
  },
  {
   "cell_type": "code",
   "execution_count": null,
   "metadata": {},
   "outputs": [],
   "source": [
    "# 부모 클래스에 정의를 했음에도 메소드를 호출 할 수 있습니다."
   ]
  },
  {
   "cell_type": "markdown",
   "metadata": {},
   "source": [
    "* 이처럼 상속은 공통된 속성이나 메소드를 부모 클래스에 정의하고, 이를 상속받아 다양한 형태의 사람들을 만들 수 있습니다."
   ]
  },
  {
   "cell_type": "code",
   "execution_count": null,
   "metadata": {},
   "outputs": [],
   "source": [
    "# 진짜 상속관계인지 확인해봅시다."
   ]
  },
  {
   "cell_type": "code",
   "execution_count": 7,
   "metadata": {},
   "outputs": [
    {
     "data": {
      "text/plain": [
       "False"
      ]
     },
     "execution_count": 7,
     "metadata": {},
     "output_type": "execute_result"
    }
   ],
   "source": [
    "issubclass(Person, Student)"
   ]
  },
  {
   "cell_type": "code",
   "execution_count": 8,
   "metadata": {},
   "outputs": [
    {
     "data": {
      "text/plain": [
       "True"
      ]
     },
     "execution_count": 8,
     "metadata": {},
     "output_type": "execute_result"
    }
   ],
   "source": [
    "issubclass(Student, Person)"
   ]
  },
  {
   "cell_type": "code",
   "execution_count": 9,
   "metadata": {
    "scrolled": true
   },
   "outputs": [
    {
     "ename": "TypeError",
     "evalue": "issubclass() arg 1 must be a class",
     "output_type": "error",
     "traceback": [
      "\u001b[1;31m---------------------------------------------------------------------------\u001b[0m",
      "\u001b[1;31mTypeError\u001b[0m                                 Traceback (most recent call last)",
      "\u001b[1;32m<ipython-input-9-0f97d52aeed5>\u001b[0m in \u001b[0;36m<module>\u001b[1;34m\u001b[0m\n\u001b[1;32m----> 1\u001b[1;33m \u001b[0missubclass\u001b[0m\u001b[1;33m(\u001b[0m\u001b[0ms\u001b[0m\u001b[1;33m,\u001b[0m \u001b[0mp\u001b[0m\u001b[1;33m)\u001b[0m\u001b[1;33m\u001b[0m\u001b[1;33m\u001b[0m\u001b[0m\n\u001b[0m",
      "\u001b[1;31mTypeError\u001b[0m: issubclass() arg 1 must be a class"
     ]
    }
   ],
   "source": [
    "issubclass(s, p)"
   ]
  },
  {
   "cell_type": "code",
   "execution_count": 10,
   "metadata": {
    "scrolled": true
   },
   "outputs": [
    {
     "data": {
      "text/plain": [
       "True"
      ]
     },
     "execution_count": 10,
     "metadata": {},
     "output_type": "execute_result"
    }
   ],
   "source": [
    "isinstance(s, Student)"
   ]
  },
  {
   "cell_type": "code",
   "execution_count": 12,
   "metadata": {},
   "outputs": [
    {
     "data": {
      "text/plain": [
       "True"
      ]
     },
     "execution_count": 12,
     "metadata": {},
     "output_type": "execute_result"
    }
   ],
   "source": [
    "# 마음에 안 듦!\n",
    "isinstance(s, Person)"
   ]
  },
  {
   "cell_type": "markdown",
   "metadata": {},
   "source": [
    "## super()\n",
    "\n",
    "* 자식 클래스에 메서드를 추가 구현할 수 있습니다.\n",
    "\n",
    "* 부모 클래스의 내용을 사용하고자 할 때, `super()`를 사용할 수 있습니다."
   ]
  },
  {
   "cell_type": "code",
   "execution_count": 13,
   "metadata": {},
   "outputs": [],
   "source": [
    "class Person:\n",
    "    def __init__(self, name, age, number, email):\n",
    "        self.name = name\n",
    "        self.age = age\n",
    "        self.number = number\n",
    "        self.email = email \n",
    "        \n",
    "    def greeting(self):\n",
    "        print(f'안녕, {self.name}')\n",
    "        \n",
    "class Student(Person):\n",
    "    def __init__(self, name, age, number, email, student_id):\n",
    "        self.name = name\n",
    "        self.age = age\n",
    "        self.number = number\n",
    "        self.email = email \n",
    "        self.student_id = student_id\n",
    "        \n",
    "p1 = Person('홍길동', 200, '0101231234', 'hong@gildong')\n",
    "s1 = Student('학생', 20, '12312312', 'student@naver.com', '190000')"
   ]
  },
  {
   "cell_type": "markdown",
   "metadata": {},
   "source": [
    "* 위의 코드를 보면, 상속을 했음에도 불구하고 동일한 코드가 반복됩니다. "
   ]
  },
  {
   "cell_type": "code",
   "execution_count": 1,
   "metadata": {},
   "outputs": [],
   "source": [
    "# 이를 수정해봅시다.\n",
    "class Person:\n",
    "    def __init__(self, name, age, number, email):\n",
    "        self.name = name\n",
    "        self.age = age\n",
    "        self.number = number\n",
    "        self.email = email \n",
    "        \n",
    "    def greeting(self):\n",
    "        print(f'안녕, {self.name}')\n",
    "        \n",
    "class Student(Person):\n",
    "    def __init__(self, name, age, number, email, student_id):\n",
    "        super().__init__(name, age, number, email)\n",
    "        self.student_id = student_id\n",
    "        \n",
    "p1 = Person('홍길동', 200, '0101231234', 'hong@gildong')\n",
    "s1 = Student('학생', 20, '12312312', 'student@naver.com', '190000')"
   ]
  },
  {
   "cell_type": "markdown",
   "metadata": {},
   "source": [
    "## 메소드 오버라이딩\n",
    "\n",
    "* 메서드를 재정의할 수도 있습니다."
   ]
  },
  {
   "cell_type": "code",
   "execution_count": 3,
   "metadata": {},
   "outputs": [
    {
     "name": "stdout",
     "output_type": "stream",
     "text": [
      "충성! 준위 권택건\n"
     ]
    }
   ],
   "source": [
    "# 군인은 다른 인사를 합니다.\n",
    "class Soldier(Person):\n",
    "    def __init__(self, name, age, number, email, army):\n",
    "        super().__init__(name, age, number, email)\n",
    "        self.army = army\n",
    "        \n",
    "    def greeting(self):\n",
    "        print(f'충성! {self.army} {self.name}')\n",
    "\n",
    "s = Soldier('권택건', 25, '01012345678', 'Hermes@hermes.com', '준위')\n",
    "s.greeting()"
   ]
  },
  {
   "cell_type": "markdown",
   "metadata": {},
   "source": [
    "## 상속관계에서의 이름공간\n",
    "\n",
    "* 기존에 인스턴스 -> 클래스순으로 이름 공간을 탐색해나가는 과정에서 상속관계에 있으면 아래와 같이 확장됩니다.\n",
    "\n",
    "* 인스턴스 -> 자식 클래스 -> 부모 클래스 -> 전역"
   ]
  },
  {
   "cell_type": "markdown",
   "metadata": {},
   "source": [
    "## 실습1 \n",
    "\n",
    "> Teacher 클래스를 만들어보고 Student와 Teacher 클래스에 각각 다른 행동의 메소드들을 하나씩 추가해봅시다."
   ]
  },
  {
   "cell_type": "code",
   "execution_count": 7,
   "metadata": {},
   "outputs": [
    {
     "name": "stdout",
     "output_type": "stream",
     "text": [
      "유태영 선생입니다.\n",
      "황은석 학생입니다.\n"
     ]
    }
   ],
   "source": [
    "# 아래에 코드를 작성해주세요.\n",
    "class Teacher:\n",
    "    def __init__(self, name):\n",
    "        self.name = name\n",
    "        \n",
    "    def greeting(self):\n",
    "        print(f'{self.name} 선생입니다.')\n",
    "        \n",
    "class Student(Teacher):        \n",
    "    def greeting(self):\n",
    "        print(f'{self.name} 학생입니다.')\n",
    "        \n",
    "t1 = Teacher('유태영')\n",
    "s1 = Student('황은석')\n",
    "\n",
    "t1.greeting()\n",
    "s1.greeting()"
   ]
  },
  {
   "cell_type": "markdown",
   "metadata": {},
   "source": [
    "## 실습2\n",
    "\n",
    "> 사실 사람은 포유류입니다. \n",
    ">\n",
    "> Animal Class를 만들고, Person클래스가 상속받도록 구성해봅시다.\n",
    ">\n",
    "> 변수나, 메소드는 자유롭게 만들어봅시다."
   ]
  },
  {
   "cell_type": "code",
   "execution_count": 8,
   "metadata": {},
   "outputs": [],
   "source": [
    "# 아래에 코드를 작성해주세요.\n",
    "class Animal:\n",
    "    pass\n",
    "\n",
    "class Person(Animal):\n",
    "    pass"
   ]
  },
  {
   "cell_type": "code",
   "execution_count": null,
   "metadata": {},
   "outputs": [],
   "source": [
    "class A(B, C):\n",
    "    pass\n",
    "\n",
    "# 클래스 변수 참조는 앞에부터 즉, B!"
   ]
  }
 ],
 "metadata": {
  "kernelspec": {
   "display_name": "Python 3",
   "language": "python",
   "name": "python3"
  },
  "language_info": {
   "codemirror_mode": {
    "name": "ipython",
    "version": 3
   },
   "file_extension": ".py",
   "mimetype": "text/x-python",
   "name": "python",
   "nbconvert_exporter": "python",
   "pygments_lexer": "ipython3",
   "version": "3.6.7"
  },
  "latex_envs": {
   "LaTeX_envs_menu_present": true,
   "autoclose": false,
   "autocomplete": true,
   "bibliofile": "biblio.bib",
   "cite_by": "apalike",
   "current_citInitial": 1,
   "eqLabelWithNumbers": true,
   "eqNumInitial": 1,
   "hotkeys": {
    "equation": "Ctrl-E",
    "itemize": "Ctrl-I"
   },
   "labels_anchors": false,
   "latex_user_defs": false,
   "report_style_numbering": false,
   "user_envs_cfg": false
  },
  "toc": {
   "base_numbering": 1,
   "nav_menu": {},
   "number_sections": true,
   "sideBar": true,
   "skip_h1_title": false,
   "title_cell": "Table of Contents",
   "title_sidebar": "Contents",
   "toc_cell": false,
   "toc_position": {},
   "toc_section_display": true,
   "toc_window_display": false
  }
 },
 "nbformat": 4,
 "nbformat_minor": 2
}
